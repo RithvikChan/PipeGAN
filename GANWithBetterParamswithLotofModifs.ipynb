{
  "nbformat": 4,
  "nbformat_minor": 0,
  "metadata": {
    "colab": {
      "name": "GANWithBetterParamswithLotofModifs.ipynb",
      "provenance": [],
      "collapsed_sections": []
    },
    "kernelspec": {
      "display_name": "Python 3",
      "language": "python",
      "name": "python3"
    },
    "language_info": {
      "codemirror_mode": {
        "name": "ipython",
        "version": 3
      },
      "file_extension": ".py",
      "mimetype": "text/x-python",
      "name": "python",
      "nbconvert_exporter": "python",
      "pygments_lexer": "ipython3",
      "version": "3.5.5"
    }
  },
  "cells": [
    {
      "cell_type": "code",
      "metadata": {
        "colab_type": "code",
        "id": "_iaQa45ebnmi",
        "colab": {}
      },
      "source": [
        "from __future__ import absolute_import\n",
        "from __future__ import division\n",
        "from __future__ import print_function\n",
        "\n",
        "import collections\n",
        "import gzip\n",
        "import os\n",
        "import time\n",
        "\n",
        "import numpy\n",
        "from six.moves import urllib\n",
        "from six.moves import xrange  # pylint: disable=redefined-builtin\n",
        "\n",
        "from tensorflow.python.framework import dtypes\n",
        "from tensorflow.python.framework import random_seed\n",
        "from tensorflow.python.platform import gfile\n",
        "from tensorflow.python.util.deprecation import deprecated\n",
        "\n",
        "_Datasets = collections.namedtuple('_Datasets', ['train', 'validation', 'test'])\n",
        "\n",
        "# CVDF mirror of http://yann.lecun.com/exdb/mnist/\n",
        "DEFAULT_SOURCE_URL = 'https://storage.googleapis.com/cvdf-datasets/mnist/'\n",
        "\n",
        "\n",
        "def _read32(bytestream):\n",
        "  dt = numpy.dtype(numpy.uint32).newbyteorder('>')\n",
        "  return numpy.frombuffer(bytestream.read(4), dtype=dt)[0]\n",
        "\n",
        "\n",
        "@deprecated(None, 'Please use tf.data to implement this functionality.')\n",
        "def _extract_images(f):\n",
        "  \"\"\"Extract the images into a 4D uint8 numpy array [index, y, x, depth].\n",
        "  Args:\n",
        "    f: A file object that can be passed into a gzip reader.\n",
        "  Returns:\n",
        "    data: A 4D uint8 numpy array [index, y, x, depth].\n",
        "  Raises:\n",
        "    ValueError: If the bytestream does not start with 2051.\n",
        "  \"\"\"\n",
        "  print('Extracting', f.name)\n",
        "  with gzip.GzipFile(fileobj=f) as bytestream:\n",
        "    magic = _read32(bytestream)\n",
        "    if magic != 2051:\n",
        "      raise ValueError('Invalid magic number %d in MNIST image file: %s' %\n",
        "                       (magic, f.name))\n",
        "    num_images = _read32(bytestream)\n",
        "    rows = _read32(bytestream)\n",
        "    cols = _read32(bytestream)\n",
        "    buf = bytestream.read(rows * cols * num_images)\n",
        "    data = numpy.frombuffer(buf, dtype=numpy.uint8)\n",
        "    data = data.reshape(num_images, rows, cols, 1)\n",
        "    return data\n",
        "\n",
        "\n",
        "@deprecated(None, 'Please use tf.one_hot on tensors.')\n",
        "def _dense_to_one_hot(labels_dense, num_classes):\n",
        "  \"\"\"Convert class labels from scalars to one-hot vectors.\"\"\"\n",
        "  num_labels = labels_dense.shape[0]\n",
        "  index_offset = numpy.arange(num_labels) * num_classes\n",
        "  labels_one_hot = numpy.zeros((num_labels, num_classes))\n",
        "  labels_one_hot.flat[index_offset + labels_dense.ravel()] = 1\n",
        "  return labels_one_hot\n",
        "\n",
        "\n",
        "@deprecated(None, 'Please use tf.data to implement this functionality.')\n",
        "def _extract_labels(f, one_hot=False, num_classes=10):\n",
        "  \"\"\"Extract the labels into a 1D uint8 numpy array [index].\n",
        "  Args:\n",
        "    f: A file object that can be passed into a gzip reader.\n",
        "    one_hot: Does one hot encoding for the result.\n",
        "    num_classes: Number of classes for the one hot encoding.\n",
        "  Returns:\n",
        "    labels: a 1D uint8 numpy array.\n",
        "  Raises:\n",
        "    ValueError: If the bystream doesn't start with 2049.\n",
        "  \"\"\"\n",
        "  print('Extracting', f.name)\n",
        "  with gzip.GzipFile(fileobj=f) as bytestream:\n",
        "    magic = _read32(bytestream)\n",
        "    if magic != 2049:\n",
        "      raise ValueError('Invalid magic number %d in MNIST label file: %s' %\n",
        "                       (magic, f.name))\n",
        "    num_items = _read32(bytestream)\n",
        "    buf = bytestream.read(num_items)\n",
        "    labels = numpy.frombuffer(buf, dtype=numpy.uint8)\n",
        "    if one_hot:\n",
        "      return _dense_to_one_hot(labels, num_classes)\n",
        "    return labels\n",
        "\n",
        "\n",
        "class _DataSet(object):\n",
        "  \"\"\"Container class for a _DataSet (deprecated).\n",
        "  THIS CLASS IS DEPRECATED.\n",
        "  \"\"\"\n",
        "\n",
        "  @deprecated(None, 'Please use alternatives such as official/mnist/_DataSet.py'\n",
        "              ' from tensorflow/models.')\n",
        "  def __init__(self,\n",
        "               images,\n",
        "               labels,\n",
        "               fake_data=False,\n",
        "               one_hot=False,\n",
        "               dtype=dtypes.float32,\n",
        "               reshape=True,\n",
        "               seed=None):\n",
        "    \"\"\"Construct a _DataSet.\n",
        "    one_hot arg is used only if fake_data is true.  `dtype` can be either\n",
        "    `uint8` to leave the input as `[0, 255]`, or `float32` to rescale into\n",
        "    `[0, 1]`.  Seed arg provides for convenient deterministic testing.\n",
        "    Args:\n",
        "      images: The images\n",
        "      labels: The labels\n",
        "      fake_data: Ignore inages and labels, use fake data.\n",
        "      one_hot: Bool, return the labels as one hot vectors (if True) or ints (if\n",
        "        False).\n",
        "      dtype: Output image dtype. One of [uint8, float32]. `uint8` output has\n",
        "        range [0,255]. float32 output has range [0,1].\n",
        "      reshape: Bool. If True returned images are returned flattened to vectors.\n",
        "      seed: The random seed to use.\n",
        "    \"\"\"\n",
        "    seed1, seed2 = random_seed.get_seed(seed)\n",
        "    # If op level seed is not set, use whatever graph level seed is returned\n",
        "    numpy.random.seed(seed1 if seed is None else seed2)\n",
        "    dtype = dtypes.as_dtype(dtype).base_dtype\n",
        "    if dtype not in (dtypes.uint8, dtypes.float32):\n",
        "      raise TypeError('Invalid image dtype %r, expected uint8 or float32' %\n",
        "                      dtype)\n",
        "    if fake_data:\n",
        "      self._num_examples = 10000\n",
        "      self.one_hot = one_hot\n",
        "    else:\n",
        "      assert images.shape[0] == labels.shape[0], (\n",
        "          'images.shape: %s labels.shape: %s' % (images.shape, labels.shape))\n",
        "      self._num_examples = images.shape[0]\n",
        "\n",
        "      # Convert shape from [num examples, rows, columns, depth]\n",
        "      # to [num examples, rows*columns] (assuming depth == 1)\n",
        "      if reshape:\n",
        "        assert images.shape[3] == 1\n",
        "        images = images.reshape(images.shape[0],\n",
        "                                images.shape[1] * images.shape[2])\n",
        "      if dtype == dtypes.float32:\n",
        "        # Convert from [0, 255] -> [0.0, 1.0].\n",
        "        images = images.astype(numpy.float32)\n",
        "        images = numpy.multiply(images, 1.0 / 255.0)\n",
        "    self._images = images\n",
        "    self._labels = labels\n",
        "    self._epochs_completed = 0\n",
        "    self._index_in_epoch = 0\n",
        "\n",
        "  @property\n",
        "  def images(self):\n",
        "    return self._images\n",
        "\n",
        "  @property\n",
        "  def labels(self):\n",
        "    return self._labels\n",
        "\n",
        "  @property\n",
        "  def num_examples(self):\n",
        "    return self._num_examples\n",
        "\n",
        "  @property\n",
        "  def epochs_completed(self):\n",
        "    return self._epochs_completed\n",
        "\n",
        "  def next_batch(self, batch_size, fake_data=False, shuffle=True):\n",
        "    \"\"\"Return the next `batch_size` examples from this data set.\"\"\"\n",
        "    if fake_data:\n",
        "      fake_image = [1] * 784\n",
        "      if self.one_hot:\n",
        "        fake_label = [1] + [0] * 9\n",
        "      else:\n",
        "        fake_label = 0\n",
        "      return [fake_image for _ in xrange(batch_size)\n",
        "             ], [fake_label for _ in xrange(batch_size)]\n",
        "    start = self._index_in_epoch\n",
        "    # Shuffle for the first epoch\n",
        "    if self._epochs_completed == 0 and start == 0 and shuffle:\n",
        "      perm0 = numpy.arange(self._num_examples)\n",
        "      numpy.random.shuffle(perm0)\n",
        "      self._images = self.images[perm0]\n",
        "      self._labels = self.labels[perm0]\n",
        "    # Go to the next epoch\n",
        "    if start + batch_size > self._num_examples:\n",
        "      # Finished epoch\n",
        "      self._epochs_completed += 1\n",
        "      # Get the rest examples in this epoch\n",
        "      rest_num_examples = self._num_examples - start\n",
        "      images_rest_part = self._images[start:self._num_examples]\n",
        "      labels_rest_part = self._labels[start:self._num_examples]\n",
        "      # Shuffle the data\n",
        "      if shuffle:\n",
        "        perm = numpy.arange(self._num_examples)\n",
        "        numpy.random.shuffle(perm)\n",
        "        self._images = self.images[perm]\n",
        "        self._labels = self.labels[perm]\n",
        "      # Start next epoch\n",
        "      start = 0\n",
        "      self._index_in_epoch = batch_size - rest_num_examples\n",
        "      end = self._index_in_epoch\n",
        "      images_new_part = self._images[start:end]\n",
        "      labels_new_part = self._labels[start:end]\n",
        "      return numpy.concatenate((images_rest_part, images_new_part),\n",
        "                               axis=0), numpy.concatenate(\n",
        "                                   (labels_rest_part, labels_new_part), axis=0)\n",
        "    else:\n",
        "      self._index_in_epoch += batch_size\n",
        "      end = self._index_in_epoch\n",
        "      return self._images[start:end], self._labels[start:end]\n",
        "\n",
        "\n",
        "@deprecated(None, 'Please write your own downloading logic.')\n",
        "def _maybe_download(filename, work_directory, source_url):\n",
        "  \"\"\"Download the data from source url, unless it's already here.\n",
        "  Args:\n",
        "      filename: string, name of the file in the directory.\n",
        "      work_directory: string, path to working directory.\n",
        "      source_url: url to download from if file doesn't exist.\n",
        "  Returns:\n",
        "      Path to resulting file.\n",
        "  \"\"\"\n",
        "  if not gfile.Exists(work_directory):\n",
        "    gfile.MakeDirs(work_directory)\n",
        "  filepath = os.path.join(work_directory, filename)\n",
        "  if not gfile.Exists(filepath):\n",
        "    urllib.request.urlretrieve(source_url, filepath)\n",
        "    with gfile.GFile(filepath) as f:\n",
        "      size = f.size()\n",
        "    print('Successfully downloaded', filename, size, 'bytes.')\n",
        "  return filepath\n",
        "\n",
        "\n",
        "@deprecated(None, 'Please use alternatives such as:'\n",
        "            ' tensorflow_datasets.load(\\'mnist\\')')\n",
        "def read_data_sets(train_dir,\n",
        "                   fake_data=False,\n",
        "                   one_hot=False,\n",
        "                   dtype=dtypes.float32,\n",
        "                   reshape=True,\n",
        "                   validation_size=5000,\n",
        "                   seed=None,\n",
        "                   source_url=DEFAULT_SOURCE_URL):\n",
        "  if fake_data:\n",
        "\n",
        "    def fake():\n",
        "      return _DataSet([], [],\n",
        "                      fake_data=True,\n",
        "                      one_hot=one_hot,\n",
        "                      dtype=dtype,\n",
        "                      seed=seed)\n",
        "\n",
        "    train = fake()\n",
        "    validation = fake()\n",
        "    test = fake()\n",
        "    return _Datasets(train=train, validation=validation, test=test)\n",
        "\n",
        "  if not source_url:  # empty string check\n",
        "    source_url = DEFAULT_SOURCE_URL\n",
        "\n",
        "  train_images_file = 'train-images-idx3-ubyte.gz'\n",
        "  train_labels_file = 'train-labels-idx1-ubyte.gz'\n",
        "  test_images_file = 't10k-images-idx3-ubyte.gz'\n",
        "  test_labels_file = 't10k-labels-idx1-ubyte.gz'\n",
        "\n",
        "  local_file = _maybe_download(train_images_file, train_dir,\n",
        "                               source_url + train_images_file)\n",
        "  with gfile.Open(local_file, 'rb') as f:\n",
        "    train_images = _extract_images(f)\n",
        "\n",
        "  local_file = _maybe_download(train_labels_file, train_dir,\n",
        "                               source_url + train_labels_file)\n",
        "  with gfile.Open(local_file, 'rb') as f:\n",
        "    train_labels = _extract_labels(f, one_hot=one_hot)\n",
        "\n",
        "  local_file = _maybe_download(test_images_file, train_dir,\n",
        "                               source_url + test_images_file)\n",
        "  with gfile.Open(local_file, 'rb') as f:\n",
        "    test_images = _extract_images(f)\n",
        "\n",
        "  local_file = _maybe_download(test_labels_file, train_dir,\n",
        "                               source_url + test_labels_file)\n",
        "  with gfile.Open(local_file, 'rb') as f:\n",
        "    test_labels = _extract_labels(f, one_hot=one_hot)\n",
        "\n",
        "  if not 0 <= validation_size <= len(train_images):\n",
        "    raise ValueError(\n",
        "        'Validation size should be between 0 and {}. Received: {}.'.format(\n",
        "            len(train_images), validation_size))\n",
        "\n",
        "  validation_images = train_images[:validation_size]\n",
        "  validation_labels = train_labels[:validation_size]\n",
        "  train_images = train_images[validation_size:]\n",
        "  train_labels = train_labels[validation_size:]\n",
        "\n",
        "  options = dict(dtype=dtype, reshape=reshape, seed=seed)\n",
        "\n",
        "  train = _DataSet(train_images, train_labels, **options)\n",
        "  validation = _DataSet(validation_images, validation_labels, **options)\n",
        "  test = _DataSet(test_images, test_labels, **options)\n",
        "\n",
        "  return _Datasets(train=train, validation=validation, test=test)"
      ],
      "execution_count": 0,
      "outputs": []
    },
    {
      "cell_type": "code",
      "metadata": {
        "colab_type": "code",
        "id": "3BshiewAbfPU",
        "scrolled": true,
        "colab": {}
      },
      "source": [
        "import numpy as np,sys,time\n",
        "from sklearn.utils import shuffle\n",
        "import matplotlib\n",
        "import tensorflow as tf\n",
        "import tensorflow_datasets\n",
        "import os\n",
        "import numpy as np,sys\n",
        "from sklearn.utils import shuffle\n",
        "import matplotlib.pyplot as plt\n",
        "import matplotlib.gridspec as gridspec"
      ],
      "execution_count": 0,
      "outputs": []
    },
    {
      "cell_type": "code",
      "metadata": {
        "colab_type": "code",
        "id": "ZffTWt8ZbfPo",
        "colab": {}
      },
      "source": [
        "batch_size = 128\n",
        "def ReLu(x):\n",
        "    mask = (x>0) * 1.0\n",
        "    return (mask *x).reshape(x.shape[0],x.shape[1])\n",
        "def d_ReLu(x):\n",
        "    mask = (x>0) * 1.0\n",
        "    return mask.reshape(x.shape[0],x.shape[1])\n",
        "\n",
        "def Lrelu(x):\n",
        "#    alpha = 0.0001\n",
        "#    return np.where(x > 0, x, x * alpha) \n",
        "    y1 = ((x > 0) * x)                                                 \n",
        "    y2 = ((x <= 0) * x * 0.01)                                         \n",
        "    return (y1 + y2)\n",
        "def d_Lrelu(x,alpha = 0.01):\n",
        "  dx = np.ones_like(x)\n",
        "  dx[x < 0] = alpha\n",
        "  return dx\n",
        "def arctan(x):\n",
        "    return np.arctan(x)\n",
        "def d_arctan(x):\n",
        "    return (1 / (1 + x ** 2))\n",
        "\n",
        "def log(x):\n",
        "    return (1 / ( 1+ np.exp(-1*x)))\n",
        "def d_log(x):\n",
        "    return log(x) * (1 - log(x))\n",
        "\n",
        "def tanh(x):\n",
        "    return np.tanh(x).reshape(x.shape[0],x.shape[1])\n",
        "def d_tanh(x):\n",
        "    return (1 - np.tanh(x) ** 2)\n",
        "\n",
        "def plot(samples, title):\n",
        "    print(len(samples))\n",
        "    plt.figure(figsize=(4, 4))\n",
        "    gs = gridspec.GridSpec(10, 10)\n",
        "    gs.update(wspace=0.05, hspace=0.05)\n",
        "\n",
        "    for i, sample in enumerate(samples):\n",
        "        ax = plt.subplot(gs[i])\n",
        "        plt.axis('off')\n",
        "        ax.set_xticklabels([])\n",
        "        ax.set_yticklabels([])\n",
        "        ax.set_aspect('equal')\n",
        "        plt.title(title)\n",
        "        sample_resized = sample.reshape(batch_size, 28, 28)\n",
        "        # plt.imshow(sample.reshape(5, 28, 28), cmap='Greys_r')\n",
        "        plt.imshow(sample_resized[0], cmap='Greys_r')\n",
        "    plt.show()\n",
        "def plots(samples, title):\n",
        "    print(len(samples))\n",
        "    plt.figure()\n",
        "    gs = gridspec.GridSpec(4,4)\n",
        "    gs.update(wspace=0.05, hspace=0.05)\n",
        "    for i, sample in enumerate(samples):\n",
        "        ax = plt.subplot(gs[i])\n",
        "        plt.axis('off')\n",
        "        ax.set_xticklabels([])\n",
        "        ax.set_yticklabels([])\n",
        "        ax.set_aspect('equal')\n",
        "        sample_resized = sample.reshape(28, 28)\n",
        "        # plt.imshow(sample.reshape(5, 28, 28), cmap='Greys_r')\n",
        "        plt.imshow(sample_resized, cmap='Greys_r')\n",
        "    plt.show()"
      ],
      "execution_count": 0,
      "outputs": []
    },
    {
      "cell_type": "code",
      "metadata": {
        "colab_type": "code",
        "id": "aPAKJeiAbfP4",
        "colab": {}
      },
      "source": [
        "# random_numer = 1222 #int(input(\"Please Input a Random Number to Seed\"))\n",
        "# np.random.seed(random_numer)\n"
      ],
      "execution_count": 0,
      "outputs": []
    },
    {
      "cell_type": "code",
      "metadata": {
        "colab_type": "code",
        "id": "Ulnl3-qYbfQH",
        "outputId": "5393373b-b4d6-4954-c3b3-5729f74e36c8",
        "scrolled": true,
        "colab": {
          "base_uri": "https://localhost:8080/",
          "height": 380
        }
      },
      "source": [
        "# 1. Load Data and declare hyper\n",
        "print('--------- Load Data ----------')\n",
        "mnist = read_data_sets('MNIST_data', one_hot=False)\n",
        "temp = mnist.test\n",
        "images, labels = temp.images, temp.labels\n",
        "images, labels = shuffle(np.asarray(images),np.asarray(labels))\n",
        "num_epoch = 50\n",
        "learing_rate = 0.00002\n",
        "learing_rate2 = 0.00002\n",
        "G_input = 100\n",
        "hidden_input,hidden_input2,hidden_input3 = 128,256,346\n",
        "hidden_input4,hidden_input5,hidden_input6 = 480,560,686\n",
        "hidden_input7,hidden_input8,hidden_input9 = 800,1020,1400\n",
        "hidden_input10 = 1800"
      ],
      "execution_count": 624,
      "outputs": [
        {
          "output_type": "stream",
          "text": [
            "--------- Load Data ----------\n",
            "WARNING:tensorflow:From <ipython-input-624-7ac0ac0f4408>:2: read_data_sets (from __main__) is deprecated and will be removed in a future version.\n",
            "Instructions for updating:\n",
            "Please use alternatives such as: tensorflow_datasets.load('mnist')\n",
            "WARNING:tensorflow:From <ipython-input-621-03a9021563ce>:267: _maybe_download (from __main__) is deprecated and will be removed in a future version.\n",
            "Instructions for updating:\n",
            "Please write your own downloading logic.\n",
            "WARNING:tensorflow:From <ipython-input-621-03a9021563ce>:269: _extract_images (from __main__) is deprecated and will be removed in a future version.\n",
            "Instructions for updating:\n",
            "Please use tf.data to implement this functionality.\n",
            "Extracting MNIST_data/train-images-idx3-ubyte.gz\n",
            "WARNING:tensorflow:From <ipython-input-621-03a9021563ce>:274: _extract_labels (from __main__) is deprecated and will be removed in a future version.\n",
            "Instructions for updating:\n",
            "Please use tf.data to implement this functionality.\n",
            "Extracting MNIST_data/train-labels-idx1-ubyte.gz\n",
            "Extracting MNIST_data/t10k-images-idx3-ubyte.gz\n",
            "Extracting MNIST_data/t10k-labels-idx1-ubyte.gz\n",
            "WARNING:tensorflow:From <ipython-input-621-03a9021563ce>:298: _DataSet.__init__ (from __main__) is deprecated and will be removed in a future version.\n",
            "Instructions for updating:\n",
            "Please use alternatives such as official/mnist/_DataSet.py from tensorflow/models.\n"
          ],
          "name": "stdout"
        }
      ]
    },
    {
      "cell_type": "code",
      "metadata": {
        "colab_type": "code",
        "id": "nh1txYT4bfQT",
        "outputId": "9f386708-a69b-4c10-8f66-d32af4ac4698",
        "colab": {
          "base_uri": "https://localhost:8080/",
          "height": 35
        }
      },
      "source": [
        "print('--------- Declare Hyper Parameters ----------')\n",
        "D_W1 = np.random.normal(size=(784,hidden_input),scale=(1. / np.sqrt(784 / 2.)))   *0.002\n",
        "# D_b1 = np.random.normal(size=(128),scale=(1. / np.sqrt(128 / 2.)))       *0.002\n",
        "D_b1 = np.zeros(hidden_input).reshape(1,hidden_input)\n",
        "\n",
        "D_W2 = np.random.normal(size=(hidden_input,hidden_input2),scale=(1. / np.sqrt(hidden_input / 2.)))   *0.002\n",
        "# G_b1 = np.random.normal(size=(128),scale=(1. / np.sqrt(128 / 2.)))      *0.002\n",
        "D_b2 = np.zeros(hidden_input2).reshape(1,hidden_input2)\n",
        "\n",
        "D_W3 = np.random.normal(size=(hidden_input2,hidden_input3),scale=(1. / np.sqrt(hidden_input2 / 2.)))   *0.002\n",
        "# G_b1 = np.random.normal(size=(128),scale=(1. / np.sqrt(128 / 2.)))      *0.002\n",
        "D_b3 = np.zeros(hidden_input3).reshape(1,hidden_input3)\n",
        "\n",
        "D_W4 = np.random.normal(size=(hidden_input3,1),scale=(1. / np.sqrt(hidden_input / 2.)))     *0.002\n",
        "# D_b2 = np.random.normal(size=(1),scale=(1. / np.sqrt(1 / 2.)))           *0.002\n",
        "D_b4 = np.zeros(1).reshape(1,1)\n",
        "\n",
        "\n",
        "G_W1 = np.random.normal(size=(G_input,hidden_input),scale=(1. / np.sqrt(G_input / 2.)))   *0.002\n",
        "# G_b1 = np.random.normal(size=(128),scale=(1. / np.sqrt(128 / 2.)))      *0.002\n",
        "G_b1 = np.zeros(hidden_input).reshape(1,hidden_input)\n",
        "\n",
        "G_W2 = np.random.normal(size=(hidden_input,hidden_input2),scale=(1. / np.sqrt(hidden_input / 2.)))   *0.002\n",
        "# G_b1 = np.random.normal(size=(128),scale=(1. / np.sqrt(128 / 2.)))      *0.002\n",
        "G_b2 = np.zeros(hidden_input2).reshape(1,hidden_input2)\n",
        "\n",
        "G_W3 = np.random.normal(size=(hidden_input2,hidden_input3),scale=(1. / np.sqrt(hidden_input2 / 2.)))   *0.002\n",
        "# G_b1 = np.random.normal(size=(128),scale=(1. / np.sqrt(128 / 2.)))      *0.002\n",
        "G_b3 = np.zeros(hidden_input3).reshape(1,hidden_input3)\n",
        "\n",
        "G_W4 = np.random.normal(size=(hidden_input3,hidden_input4),scale=(1. / np.sqrt(hidden_input3 / 2.)))   *0.002\n",
        "# G_b1 = np.random.normal(size=(128),scale=(1. / np.sqrt(128 / 2.)))      *0.002\n",
        "G_b4 = np.zeros(hidden_input4).reshape(1,hidden_input4)\n",
        "\n",
        "G_W5 = np.random.normal(size=(hidden_input4,hidden_input5),scale=(1. / np.sqrt(hidden_input4 / 2.)))   *0.002\n",
        "# G_b1 = np.random.normal(size=(128),scale=(1. / np.sqrt(128 / 2.)))      *0.002\n",
        "G_b5 = np.zeros(hidden_input5).reshape(1,hidden_input5)\n",
        "\n",
        "G_W6 = np.random.normal(size=(hidden_input5,hidden_input6),scale=(1. / np.sqrt(hidden_input5 / 2.)))   *0.002\n",
        "# G_b1 = np.random.normal(size=(128),scale=(1. / np.sqrt(128 / 2.)))      *0.002\n",
        "G_b6 = np.zeros(hidden_input6).reshape(1,hidden_input6)\n",
        "\n",
        "G_W7 = np.random.normal(size=(hidden_input6,hidden_input7),scale=(1. / np.sqrt(hidden_input5 / 2.)))   *0.002\n",
        "# G_b1 = np.random.normal(size=(128),scale=(1. / np.sqrt(128 / 2.)))      *0.002\n",
        "G_b7 = np.zeros(hidden_input7).reshape(1,hidden_input7)\n",
        "\n",
        "G_W8 = np.random.normal(size=(hidden_input7,hidden_input8),scale=(1. / np.sqrt(hidden_input5 / 2.)))   *0.002\n",
        "# G_b1 = np.random.normal(size=(128),scale=(1. / np.sqrt(128 / 2.)))      *0.002\n",
        "G_b8 = np.zeros(hidden_input8).reshape(1,hidden_input8)\n",
        "\n",
        "G_W9 = np.random.normal(size=(hidden_input8,hidden_input9),scale=(1. / np.sqrt(hidden_input5 / 2.)))   *0.002\n",
        "# G_b1 = np.random.normal(size=(128),scale=(1. / np.sqrt(128 / 2.)))      *0.002\n",
        "G_b9 = np.zeros(hidden_input9).reshape(1,hidden_input9)\n",
        "\n",
        "G_W10 = np.random.normal(size=(hidden_input9,hidden_input10),scale=(1. / np.sqrt(hidden_input5 / 2.)))   *0.002\n",
        "# G_b1 = np.random.normal(size=(128),scale=(1. / np.sqrt(128 / 2.)))      *0.002\n",
        "G_b10 = np.zeros(hidden_input10).reshape(1,hidden_input10)\n",
        "\n",
        "G_W11 = np.random.normal(size=(hidden_input10,784),scale=(1. / np.sqrt(hidden_input6 / 2.)))  *0.002\n",
        "# G_b2 = np.random.normal(size=(784),scale=(1. / np.sqrt(784 / 2.)))      *0.002\n",
        "G_b11 = np.zeros(784).reshape(1,784)\n",
        "# 2. Declare Weights\n",
        "\n",
        "\n",
        "\n",
        "\n",
        "\n",
        "\n",
        "grad_D_w1 = np.zeros(784*hidden_input).reshape(784,hidden_input)\n",
        "grad_D_b1 = np.zeros(hidden_input).reshape(1,hidden_input)\n",
        "\n",
        "grad_D_w2 = np.zeros(hidden_input*hidden_input2).reshape(hidden_input, hidden_input2)\n",
        "grad_D_b2 = np.zeros(hidden_input2).reshape(1,hidden_input2)\n",
        "\n",
        "grad_D_w3 = np.zeros(hidden_input2*hidden_input3).reshape(hidden_input2, hidden_input3)\n",
        "grad_D_b3 = np.zeros(hidden_input3).reshape(1,hidden_input3)\n",
        "\n",
        "grad_D_w4 = np.zeros(hidden_input3).reshape(hidden_input3,1)\n",
        "grad_D_b4 = np.zeros(1).reshape(1,1)\n",
        "\n",
        "\n",
        "\n",
        "\n",
        "grad_g_w1 = np.zeros(G_input*hidden_input).reshape(G_input, hidden_input)\n",
        "grad_g_b1 = np.zeros(hidden_input).reshape(1,hidden_input)\n",
        "\n",
        "grad_g_w2 = np.zeros(hidden_input*hidden_input2).reshape(hidden_input, hidden_input2)\n",
        "grad_g_b2 = np.zeros(hidden_input2).reshape(1,hidden_input2)\n",
        "\n",
        "grad_g_w3 = np.zeros(hidden_input2*hidden_input3).reshape(hidden_input2, hidden_input3)\n",
        "grad_g_b3 = np.zeros(hidden_input3).reshape(1,hidden_input3)\n",
        "\n",
        "grad_g_w4 = np.zeros(hidden_input3*hidden_input4).reshape(hidden_input3, hidden_input4)\n",
        "grad_g_b4 = np.zeros(hidden_input4).reshape(1,hidden_input4)\n",
        "\n",
        "grad_g_w5 = np.zeros(hidden_input4*hidden_input5).reshape(hidden_input4, hidden_input5)\n",
        "grad_g_b5 = np.zeros(hidden_input5).reshape(1,hidden_input5)\n",
        "\n",
        "grad_g_w6 = np.zeros(hidden_input5*hidden_input6).reshape(hidden_input5, hidden_input6)\n",
        "grad_g_b6 = np.zeros(hidden_input6).reshape(1,hidden_input6)\n",
        "\n",
        "grad_g_w7 = np.zeros(hidden_input6*hidden_input7).reshape(hidden_input6, hidden_input7)\n",
        "grad_g_b7 = np.zeros(hidden_input7).reshape(1,hidden_input7)\n",
        "\n",
        "grad_g_w8 = np.zeros(hidden_input7*hidden_input8).reshape(hidden_input7, hidden_input8)\n",
        "grad_g_b8 = np.zeros(hidden_input8).reshape(1,hidden_input8)\n",
        "\n",
        "grad_g_w9 = np.zeros(hidden_input8*hidden_input9).reshape(hidden_input8, hidden_input9)\n",
        "grad_g_b9 = np.zeros(hidden_input9).reshape(1,hidden_input9)\n",
        "\n",
        "grad_g_w10 = np.zeros(hidden_input9*hidden_input10).reshape(hidden_input9, hidden_input10)\n",
        "grad_g_b10 = np.zeros(hidden_input10).reshape(1,hidden_input10)\n",
        "\n",
        "grad_g_w11 = np.zeros(hidden_input10*784).reshape(hidden_input10, 784)\n",
        "grad_g_b11 = np.zeros(784).reshape(1,784)\n",
        "\n"
      ],
      "execution_count": 633,
      "outputs": [
        {
          "output_type": "stream",
          "text": [
            "--------- Declare Hyper Parameters ----------\n"
          ],
          "name": "stdout"
        }
      ]
    },
    {
      "cell_type": "code",
      "metadata": {
        "colab_type": "code",
        "id": "efhLIYTtbfQn",
        "colab": {}
      },
      "source": [
        "\n",
        "# 3. For Adam Optimzier\n",
        "m1w1,m1b1 = 0,0\n",
        "m2w2,m2b2 = 0,0\n",
        "m3w3,m3b3 = 0,0\n",
        "m4w4,m4b4 = 0,0\n",
        "\n",
        "v1w1,v1b1 = 0,0\n",
        "v2w2,v2b2 = 0,0\n",
        "v3w3,v3b3 = 0,0\n",
        "v4w4,v4b4 = 0,0\n",
        "\n",
        "v5,m5 = 0,0\n",
        "v6,m6 = 0,0\n",
        "v7,m7 = 0,0\n",
        "v8,m8 = 0,0\n",
        "v9,m9 = 0,0\n",
        "v10,m10 = 0,0\n",
        "v11,m11 = 0,0\n",
        "v12,m12 = 0,0\n",
        "v13,m13 = 0,0\n",
        "v14,m14 = 0,0\n",
        "v15,m15 = 0,0\n",
        "v16,m16 = 0,0\n",
        "v17,m17 = 0,0\n",
        "v18,m18 = 0,0\n",
        "v19,m19 = 0,0\n",
        "v20,m20 = 0,0\n",
        "v21,m21 = 0,0\n",
        "v22,m22 = 0,0\n",
        "v23,m23 = 0,0\n",
        "v24,m24 = 0,0\n",
        "v25,m25 = 0,0\n",
        "v26,m26 = 0,0\n"
      ],
      "execution_count": 0,
      "outputs": []
    },
    {
      "cell_type": "code",
      "metadata": {
        "colab_type": "code",
        "id": "iYhaQBh8bfQy",
        "colab": {}
      },
      "source": [
        "beta_1,beta_2,eps = 0.5,0.5,0.000001\n",
        "D_list_cost = []\n",
        "G_list_cost = []\n",
        "forwardPropGen1 = []\n",
        "forwardPropGen2 = []\n",
        "forwardPropDisc1 = []\n",
        "forwardPropDisc2 = []\n",
        "forwardPropDisc3 = []\n",
        "backwardPropGen = []\n",
        "backwardPropDisc = []\n",
        "gradientComputeDisc1 = []\n",
        "gradientComputeDisc2 = []\n",
        "gradientComputeGen = []\n",
        "def dropout1():\n",
        "    return np.random.normal(size=(hidden_input2,),scale=0.2)\n",
        "def dropout2():\n",
        "    return np.random.normal(size=(hidden_input3,),scale=0.2)"
      ],
      "execution_count": 0,
      "outputs": []
    },
    {
      "cell_type": "code",
      "metadata": {
        "id": "T-BDK4OlWLGM",
        "colab_type": "code",
        "colab": {}
      },
      "source": [
        "def dupli_bias(bias, batch_size):\n",
        "  return np.tile(bias, (batch_size, 1)).reshape(batch_size,bias.shape[1])"
      ],
      "execution_count": 0,
      "outputs": []
    },
    {
      "cell_type": "code",
      "metadata": {
        "id": "C9TaGvlfRiKC",
        "colab_type": "code",
        "colab": {}
      },
      "source": [
        "import torch\n",
        "import torch.nn as nn\n",
        "import torch.nn.functional as F\n",
        "from torch.autograd import Variable\n",
        "import numpy as np\n",
        "import math\n",
        "import matplotlib.pyplot as plt\n",
        "from torch.optim import Optimizer\n",
        "import torchvision.utils as vutils\n",
        "import torchvision\n",
        "import torchvision.transforms as transforms"
      ],
      "execution_count": 0,
      "outputs": []
    },
    {
      "cell_type": "code",
      "metadata": {
        "id": "tltNk0tcR44t",
        "colab_type": "code",
        "colab": {
          "base_uri": "https://localhost:8080/",
          "height": 35
        },
        "outputId": "75892ed1-4338-4e8e-e527-42abd4988729"
      },
      "source": [
        "D_b1.shape"
      ],
      "execution_count": 638,
      "outputs": [
        {
          "output_type": "execute_result",
          "data": {
            "text/plain": [
              "(1, 128)"
            ]
          },
          "metadata": {
            "tags": []
          },
          "execution_count": 638
        }
      ]
    },
    {
      "cell_type": "code",
      "metadata": {
        "id": "C4-ojuMORpag",
        "colab_type": "code",
        "colab": {}
      },
      "source": [
        "transform = transforms.Compose(\n",
        "    [transforms.ToTensor(),\n",
        "    transforms.Normalize([0.5],[0.5])])\n",
        "#Make range of image from 0-1 to -1,1. So that you can use tanh while producing fake image in Generator(tanh rules!!)\n",
        "\n",
        "###########CHANGE BATCH SIZE HERE\n",
        "batch_size = 128\n",
        "trainset = torchvision.datasets.MNIST(root='./data', train=True,\n",
        "                                        download=True, transform=transform)\n",
        "trainloader = torch.utils.data.DataLoader(trainset, batch_size=batch_size,\n",
        "                                          shuffle=True, num_workers=1,pin_memory=True)\n",
        "\n",
        "testset = torchvision.datasets.MNIST(root='./data', train=False,\n",
        "                                       download=True, transform=transform)\n",
        "testloader = torch.utils.data.DataLoader(testset, batch_size=batch_size,\n",
        "                                         shuffle=False, num_workers=1,pin_memory=True)\n",
        "device = torch.device(\"cuda:0\" if (torch.cuda.is_available()) else \"cpu\")"
      ],
      "execution_count": 0,
      "outputs": []
    },
    {
      "cell_type": "code",
      "metadata": {
        "colab_type": "code",
        "id": "sIXkEq74bfQ7",
        "outputId": "3c2256f1-dcd2-4078-8524-d4da4439e4ed",
        "colab": {
          "base_uri": "https://localhost:8080/",
          "height": 1000
        }
      },
      "source": [
        "print('--------- Started Training ----------')\n",
        "current_images = []\n",
        "current_fake_images = []\n",
        "batch_cost = []\n",
        "\n",
        "for iter in range(1,1000):\n",
        "  for i,data in enumerate(trainloader):\n",
        "    inp,op = data\n",
        "    inp = inp.to(device)\n",
        "    current_images = np.asarray(inp.reshape(inp.shape[0],28*28))\n",
        "    # current_images = np.array([])\n",
        "    # current_fake_images = np.array([])\n",
        "    # # print(current_fake_images.shape)\n",
        "    # random_int = [ np.random.randint(len(images) - 5) for i in range(batch_size) ]\n",
        "    \n",
        "    # current_image = [np.expand_dims(images[i],axis=0) for i in random_int]\n",
        "    \n",
        "    # current_images = np.vstack(current_image)\n",
        "\n",
        "    # Func: Generate The first Fake Data\n",
        "    # fake_images = []\n",
        "    \n",
        "    # for i in range(5):\n",
        "    Z = np.random.normal(0., 1., size=[batch_size, G_input])\n",
        "    \n",
        "    tic = time.time()\n",
        "    Gl1 = Z.dot(G_W1) + dupli_bias(G_b1, batch_size)\n",
        "    Gl1A = Lrelu(Gl1)\n",
        "    Gl2 = Gl1A.dot(G_W2) + dupli_bias(G_b2, batch_size)\n",
        "    Gl2A = Lrelu(Gl2)\n",
        "    Gl3 = Gl2A.dot(G_W3) + dupli_bias(G_b3, batch_size)\n",
        "    Gl3A = Lrelu(Gl3)\n",
        "    Gl4 = Gl3A.dot(G_W4) + dupli_bias(G_b4, batch_size)\n",
        "    Gl4A = Lrelu(Gl4)\n",
        "    Gl5 = Gl4A.dot(G_W5) + dupli_bias(G_b5, batch_size)\n",
        "    Gl5A = Lrelu(Gl5)\n",
        "    Gl6 = Gl5A.dot(G_W6) + dupli_bias(G_b6, batch_size)\n",
        "    Gl6A = Lrelu(Gl6)\n",
        "    Gl7 = Gl6A.dot(G_W7) + dupli_bias(G_b7, batch_size)\n",
        "    Gl7A = Lrelu(Gl7)\n",
        "    Gl8 = Gl7A.dot(G_W8) + dupli_bias(G_b8, batch_size)\n",
        "    Gl8A = Lrelu(Gl8)\n",
        "    Gl9 = Gl8A.dot(G_W9) + dupli_bias(G_b9, batch_size)\n",
        "    Gl9A = Lrelu(Gl9)\n",
        "    Gl10 = Gl9A.dot(G_W10) + dupli_bias(G_b10, batch_size)\n",
        "    Gl10A = Lrelu(Gl10)\n",
        "    Gl11 = Gl10A.dot(G_W11) + dupli_bias(G_b11, batch_size)\n",
        "    current_fake_data = log(Gl11)\n",
        "    toc = time.time()\n",
        "    \n",
        "    forwardPropGen1.append((toc-tic)*1000)\n",
        "    #print(\"stuff: \", current_fake_data.shape)\n",
        "    # fake_images.append(current_fake_data)\n",
        "    # print(\"shape of fake image: \", current_fake_data.shape)\n",
        "    # current_fake_images.append(current_fake_data)\n",
        "\n",
        "    # current_fake_images = np.vstack((fake_images[0], fake_images[1], fake_images[2], fake_images[3], fake_images[4]))\n",
        "    # print(\"shape of fake image: \", current_fake_images.shape)\n",
        "\n",
        "    # Func: Forward Feed for Real data\n",
        "    # Dl1_r = current_image.dot(D_W1) + D_b1\n",
        "    tic = time.time()\n",
        "    Dl1_r = current_images.dot(D_W1) + dupli_bias(D_b1, batch_size)\n",
        "    Dl1_rA = Lrelu(Dl1_r)\n",
        "    Dl2_r = Dl1_rA.dot(D_W2) + dupli_bias(D_b2, batch_size)  + dropout1()\n",
        "    Dl2_rA = Lrelu(Dl2_r)\n",
        "    Dl3_r = Dl2_rA.dot(D_W3) + dupli_bias(D_b3, batch_size) + dropout2()\n",
        "    Dl3_rA = Lrelu(Dl3_r)\n",
        "    Dl4_r = Dl3_rA.dot(D_W4) + dupli_bias(D_b4, batch_size)\n",
        "    Dl4_rA = log(Dl4_r)\n",
        "    toc=time.time()\n",
        "    forwardPropDisc1.append((toc-tic)*1000)\n",
        "    # Func: Forward Feed for Fake Data\n",
        "    tic = time.time()\n",
        "    Dl1_f = current_fake_data.dot(D_W1) + dupli_bias(D_b1, batch_size)\n",
        "    Dl1_fA = Lrelu(Dl1_f)\n",
        "    Dl2_f = Dl1_fA.dot(D_W2) + dupli_bias(D_b2, batch_size) + dropout1()\n",
        "    Dl2_fA = Lrelu(Dl2_f)\n",
        "    Dl3_f = Dl2_fA.dot(D_W3) + dupli_bias(D_b3, batch_size) + dropout2()\n",
        "    Dl3_fA = Lrelu(Dl3_f)\n",
        "    Dl4_f = Dl3_fA.dot(D_W4) + dupli_bias(D_b4, batch_size)\n",
        "    Dl4_fA = log(Dl4_f)\n",
        "    toc = time.time()\n",
        "    forwardPropDisc2.append((toc-tic)*1000)\n",
        "    # Func: Cost D\n",
        "    \n",
        "\n",
        "    D_cost = np.mean(-( np.log(Dl4_rA) +  np.log(1.0- Dl4_fA)))\n",
        "    D_list_cost.append(D_cost)\n",
        "    # batch_cost.append(D_cost[0[0]])\n",
        "    fBatch = Dl4_fA\n",
        "    rBatch = Dl4_rA\n",
        "    totgradFake = 0\n",
        "    tic = time.time()\n",
        "    for batch_item in range(0,batch_size):\n",
        "\n",
        "      grad_r_w4_part_1 =  (-1/((1-rBatch[batch_item])+ eps)).reshape(1,1)\n",
        "      grad_r_w4_part_2 =  d_log(Dl4_r[batch_item]).reshape(1,1)\n",
        "      grad_r_w4_part_3 =   Dl3_rA[batch_item].reshape(1,hidden_input3)\n",
        "      grad_r_w4 =     (grad_r_w4_part_3.T.dot(grad_r_w4_part_1 * grad_r_w4_part_2)).reshape(hidden_input3,1) \n",
        "      grad_r_b4 = grad_r_w4_part_1 * grad_r_w4_part_2\n",
        "\n",
        "      grad_D_w4 = np.add(grad_D_w4,grad_r_w4)\n",
        "      grad_D_b4 = np.add(grad_D_b4,grad_r_b4)\n",
        "\n",
        "      grad_r_w3_part_1 =  (grad_r_w4_part_1 * grad_r_w4_part_2).dot(D_W4.T)\n",
        "      grad_r_w3_part_2 =  d_Lrelu(Dl3_r[batch_item])\n",
        "      grad_r_w3_part_3 =   Dl2_rA[batch_item].reshape(1,hidden_input2)\n",
        "      grad_r_w3 =       grad_r_w3_part_3.T.dot(grad_r_w3_part_1 * grad_r_w3_part_2) \n",
        "      grad_r_b3 =      grad_r_w3_part_1 * grad_r_w3_part_2\n",
        "      \n",
        "      grad_D_w3 = np.add(grad_D_w3, grad_r_w3)\n",
        "      grad_D_b3 = np.add(grad_D_b3, grad_r_b3)\n",
        "\n",
        "      grad_r_w2_part_1 = (grad_r_w3_part_1 * grad_r_w3_part_2).dot(D_W3.T)\n",
        "      grad_r_w2_part_2 = d_Lrelu(Dl2_r[batch_item])\n",
        "      grad_r_w2_part_3 = Dl1_rA[batch_item].reshape(1, hidden_input)\n",
        "      grad_r_w2 = grad_r_w2_part_3.T.dot(grad_r_w2_part_1 * grad_r_w2_part_2)\n",
        "      grad_r_b2 = (grad_r_w2_part_1 * grad_r_w2_part_2)\n",
        "\n",
        "      grad_D_w2 = np.add(grad_D_w2, grad_r_w2)\n",
        "      grad_D_b2 = np.add(grad_D_b2, grad_r_b2)\n",
        "      \n",
        "      grad_r_w1_part_1 = (grad_r_w2_part_1 * grad_r_w2_part_2).dot(D_W2.T)\n",
        "      grad_r_w1_part_2 = d_Lrelu(Dl1_r[batch_item])\n",
        "      grad_r_w1_part_3 = current_images[batch_item].reshape(1,784)\n",
        "      grad_r_w1 = grad_r_w1_part_3.T.dot(grad_r_w1_part_1 * grad_r_w1_part_2)\n",
        "      grad_r_b1 = grad_r_w1_part_1 * grad_r_w1_part_2\n",
        "\n",
        "      grad_D_w1 = np.add(grad_D_w1, grad_r_w1)\n",
        "      grad_D_b1 = np.add(grad_D_b1, grad_r_b1)\n",
        "\n",
        "    toc = time.time()\n",
        "    \n",
        "    gradientComputeDisc1.append((toc-tic)*1000)\n",
        "\n",
        "    tic = time.time()\n",
        "    for batch_item in range(0,batch_size):\n",
        "\n",
        "      grad_f_w4_part_1 =  (-1/((1-fBatch[batch_item])+ eps)).reshape(1,1)\n",
        "      grad_f_w4_part_2 =  d_log(Dl4_f[batch_item]).reshape(1,1)\n",
        "      grad_f_w4_part_3 =   Dl3_rA[batch_item].reshape(1,hidden_input3)\n",
        "      grad_f_w4 =     (grad_f_w4_part_3.T.dot(grad_f_w4_part_1 * grad_f_w4_part_2)).reshape(hidden_input3,1) \n",
        "      grad_f_b4 = grad_r_w4_part_1 * grad_r_w4_part_2\n",
        "\n",
        "      grad_D_w4 = np.add(grad_D_w4,grad_f_w4)\n",
        "      grad_D_b4 = np.add(grad_D_b4,grad_f_b4)\n",
        "\n",
        "\n",
        "      grad_f_w3_part_1 =  (grad_f_w4_part_1 * grad_f_w4_part_2).dot(D_W4.T)\n",
        "      grad_f_w3_part_2 =  d_Lrelu(Dl3_f[batch_item])\n",
        "      grad_f_w3_part_3 =   Dl2_fA[batch_item].reshape(1,hidden_input2)\n",
        "      grad_f_w3 =       grad_f_w3_part_3.T.dot(grad_f_w3_part_1 * grad_f_w3_part_2) \n",
        "      grad_f_b3 =      grad_f_w3_part_1 * grad_f_w3_part_2\n",
        "      \n",
        "      grad_D_w3 = np.add(grad_D_w3, grad_f_w3)\n",
        "      grad_D_b3 = np.add(grad_D_b3, grad_f_b3)\n",
        "\n",
        "      grad_f_w2_part_1 = (grad_f_w3_part_1 * grad_f_w3_part_2).dot(D_W3.T)\n",
        "      grad_f_w2_part_2 = d_Lrelu(Dl2_f[batch_item])\n",
        "      grad_f_w2_part_3 = Dl1_fA[batch_item].reshape(1, hidden_input)\n",
        "      grad_f_w2 = grad_f_w2_part_3.T.dot(grad_f_w2_part_1 * grad_f_w2_part_2)\n",
        "      grad_f_b2 = (grad_f_w2_part_1 * grad_f_w2_part_2)\n",
        "\n",
        "      grad_D_w2 = np.add(grad_D_w2, grad_r_w2)\n",
        "      grad_D_b2 = np.add(grad_D_b2, grad_r_b2)\n",
        "      \n",
        "      grad_f_w1_part_1 = (grad_f_w2_part_1 * grad_f_w2_part_2).dot(D_W2.T)\n",
        "      grad_f_w1_part_2 = d_Lrelu(Dl1_f[batch_item])\n",
        "      grad_f_w1_part_3 = current_images[batch_item].reshape(1,784)\n",
        "      grad_f_w1 = grad_f_w1_part_3.T.dot(grad_f_w1_part_1 * grad_f_w1_part_2)\n",
        "      grad_f_b1 = grad_f_w1_part_1 * grad_f_w1_part_2\n",
        "\n",
        "      grad_D_w1 = np.add(grad_D_w1, grad_f_w1)\n",
        "      grad_D_b1 = np.add(grad_D_b1, grad_f_b1)\n",
        "\n",
        "    toc = time.time()\n",
        "    \n",
        "    gradientComputeDisc2.append((toc-tic)*1000)\n",
        "    #LATER\n",
        "    \n",
        "    \n",
        "    tic = time.time()\n",
        "    grad_w1 = grad_D_w1\n",
        "    grad_w2 =grad_D_w2\n",
        "    grad_w3 =grad_D_w3\n",
        "    grad_w4 =grad_D_w4\n",
        "\n",
        "    grad_b1 =grad_D_b1\n",
        "    grad_b2 =grad_D_b2\n",
        "    grad_b3 =grad_D_b3\n",
        "    grad_b4 =grad_D_b4\n",
        "\n",
        "\n",
        "    print(\"W4 before\", D_W4.shape)\n",
        "    # ---- Update Gradient ----\n",
        "    m1w1 = beta_1 * m1w1 + (1 - beta_1) * grad_w1\n",
        "    v1w1 = beta_2 * v1w1 + (1 - beta_2) * grad_w1 ** 2\n",
        "    \n",
        "    m2w2 = beta_1 * m2w2 + (1 - beta_1) * grad_w2\n",
        "    v2w2 = beta_2 * v2w2 + (1 - beta_2) * grad_w2 ** 2\n",
        "    \n",
        "    m3w3 = beta_1 * m3w3 + (1 - beta_1) * grad_w3\n",
        "    v3w3 = beta_2 * v3w3 + (1 - beta_2) * grad_w3 ** 2\n",
        "    \n",
        "    m4w4 = beta_1 * m4w4 + (1 - beta_1) * grad_w4\n",
        "    v4w4 = beta_2 * v4w4 + (1 - beta_2) * grad_w4 ** 2\n",
        "    \n",
        "    m1b1 = beta_1 * m1b1 + (1 - beta_1) * grad_b1\n",
        "    v1b1 = beta_2 * v1b1 + (1 - beta_2) * grad_b1 ** 2\n",
        "    \n",
        "    m2b2 = beta_1 * m2b2 + (1 - beta_1) * grad_b2\n",
        "    v2b2 = beta_2 * v2b2 + (1 - beta_2) * grad_b2 ** 2\n",
        "    \n",
        "    m3b3 = beta_1 * m3b3 + (1 - beta_1) * grad_b3\n",
        "    v3b3 = beta_2 * v3b3 + (1 - beta_2) * grad_b3 ** 2\n",
        "    \n",
        "    m4b4 = beta_1 * m4b4 + (1 - beta_1) * grad_b4\n",
        "    v4b4 = beta_2 * v4b4 + (1 - beta_2) * grad_b4 ** 2\n",
        "\n",
        "    print(\"M$V$\",m4w4.shape)\n",
        "    D_W1 = D_W1 - (learing_rate2 / (np.sqrt(v1w1 /(1-beta_2**iter )) + eps)) * (m1w1/(1-beta_1**iter)  + eps)\n",
        "    D_b1 = D_b1 - (learing_rate2 / (np.sqrt(v1b1 /(1-beta_2**iter )) + eps)) * (m1b1/(1-beta_1**iter)  + eps)\n",
        "        \n",
        "    D_W2 = D_W2 - (learing_rate2 / (np.sqrt(v2w2 /(1-beta_2**iter )) + eps)) * (m2w2/(1-beta_1**iter)  + eps)\n",
        "    D_b2 = D_b2 - (learing_rate2 / (np.sqrt(v2b2 /(1-beta_2**iter )) + eps)) * (m2b2/(1-beta_1**iter)  + eps)\n",
        "    \n",
        "  \n",
        "    D_W3 = D_W3 - (learing_rate2 / (np.sqrt(v3w3 /(1-beta_2**iter )) + eps)) * (m3w3/(1-beta_1**iter)  + eps)\n",
        "    D_b3 = D_b3 - (learing_rate2 / (np.sqrt(v3b3 /(1-beta_2**iter )) + eps)) * (m3b3/(1-beta_1**iter)  + eps)\n",
        "\n",
        "    D_W4 = D_W4 - (learing_rate2 / (np.sqrt(v4w4 /(1-beta_2**iter )) + eps)) * (m4w4/(1-beta_1**iter)  + eps)\n",
        "    D_b4 = D_b4 - (learing_rate2 / (np.sqrt(v4b4 /(1-beta_2**iter )) + eps)) * (m4b4/(1-beta_1**iter)  + eps)\n",
        "\n",
        "    print(\"W4 after\", D_W4.shape)\n",
        "\n",
        "    toc = time.time()\n",
        "    backwardPropDisc.append((toc-tic)*1000)\n",
        "    #current_images = np.delete(current_images, [0,1,2,3,4])\n",
        "    # current_fake_images = np.delete(current_fake_images, [0,1,2,3,4])\n",
        "    # batch_cost = []\n",
        "\n",
        "    # Func: Forward Feed for G\n",
        "    # fake_images = []\n",
        "    if(i%3==0):\n",
        "        tic = time.time()\n",
        "\n",
        "        Gl1 = Z.dot(G_W1) + dupli_bias(G_b1, batch_size)\n",
        "        Gl1A = Lrelu(Gl1)\n",
        "        Gl2 = Gl1A.dot(G_W2) + dupli_bias(G_b2, batch_size)\n",
        "        Gl2A = Lrelu(Gl2)\n",
        "        Gl3 = Gl2A.dot(G_W3) + dupli_bias(G_b3, batch_size)\n",
        "        Gl3A = Lrelu(Gl3)\n",
        "        Gl4 = Gl3A.dot(G_W4) + dupli_bias(G_b4, batch_size)\n",
        "        Gl4A = Lrelu(Gl4)\n",
        "        Gl5 = Gl4A.dot(G_W5) + dupli_bias(G_b5, batch_size)\n",
        "        Gl5A = Lrelu(Gl5)\n",
        "        Gl6 = Gl5A.dot(G_W6) + dupli_bias(G_b6, batch_size)\n",
        "        Gl6A = Lrelu(Gl6)\n",
        "        Gl7 = Gl6A.dot(G_W7) + dupli_bias(G_b7, batch_size)\n",
        "        Gl7A = Lrelu(Gl7)\n",
        "        Gl8 = Gl7A.dot(G_W8) + dupli_bias(G_b8, batch_size)\n",
        "        Gl8A = Lrelu(Gl8)\n",
        "        Gl9 = Gl8A.dot(G_W9) + dupli_bias(G_b9, batch_size)\n",
        "        Gl9A = Lrelu(Gl9)\n",
        "        Gl10 = Gl9A.dot(G_W10) + dupli_bias(G_b10, batch_size)\n",
        "        Gl10A = Lrelu(Gl10)\n",
        "        Gl11 = Gl10A.dot(G_W11) + dupli_bias(G_b11, batch_size)\n",
        "        current_fake_data = log(Gl11)\n",
        "\n",
        "        toc = time.time()\n",
        "\n",
        "        forwardPropGen2.append((toc-tic)*1000)\n",
        "\n",
        "        tic = time.time()\n",
        "        Dl1 = current_fake_data.dot(D_W1) + dupli_bias(D_b1, batch_size)\n",
        "        Dl1_A = Lrelu(Dl1)\n",
        "        Dl2 = Dl1_A.dot(D_W2) + dupli_bias(D_b2, batch_size) + dropout1()\n",
        "        Dl2_A = Lrelu(Dl2)\n",
        "        Dl3 = Dl2_A.dot(D_W3) + dupli_bias(D_b3, batch_size) + dropout2()\n",
        "        Dl3_A = Lrelu(Dl3)\n",
        "        Dl4 = Dl3_A.dot(D_W4) + dupli_bias(D_b4, batch_size)\n",
        "        Dl4_A = log(Dl4)\n",
        "        toc = time.time()\n",
        "\n",
        "        forwardPropDisc3.append((toc - tic)*1000)\n",
        "        # Func: Cost G\n",
        "        G_cost = np.mean(-np.log(Dl4_A))\n",
        "        G_list_cost.append(G_cost)\n",
        "        # batch_cost.append(G_cost[0][0])\n",
        "\n",
        "        tic = time.time()\n",
        "\n",
        "        for batch_item in range(0,batch_size):\n",
        "          grad_G_w11_part_1 = ((((((( (-1/(Dl4_A[batch_item] + eps)) * d_log(Dl4[batch_item]).dot(D_W4.T) * (d_Lrelu(Dl3[batch_item])) ).dot(D_W3.T) * (d_Lrelu(Dl2[batch_item]))).dot(D_W2.T)))* (d_Lrelu(Dl1[batch_item])))).dot(D_W1.T)).reshape(1,784)\n",
        "          grad_G_w11_part_2 = d_log(Gl11[batch_item])\n",
        "          grad_G_w11_part_3 = Gl10A[batch_item].reshape(1,hidden_input10)\n",
        "          grad_G_w11 = grad_G_w11_part_3.T.dot(grad_G_w11_part_1 * grad_G_w11_part_1)\n",
        "          grad_G_b11 = grad_G_w11_part_1 * grad_G_w11_part_2\n",
        "\n",
        "          grad_g_w11 = np.add(grad_g_w11,grad_G_w11)\n",
        "          grad_g_b11 = np.add(grad_g_b11,grad_G_b11)\n",
        "\n",
        "          grad_G_w10_part_1 = (grad_G_w11_part_1 * grad_G_w11_part_2).dot(G_W11.T)\n",
        "          grad_G_w10_part_2 = d_Lrelu(Gl10[batch_item])\n",
        "          grad_G_w10_part_3 = Gl9A[batch_item].reshape(1,hidden_input9)\n",
        "          grad_G_w10 = grad_G_w10_part_3.T.dot(grad_G_w10_part_1 * grad_G_w10_part_2)\n",
        "          grad_G_b10 = (grad_G_w10_part_1 * grad_G_w10_part_2)\n",
        "\n",
        "          grad_g_w10 = np.add(grad_g_w10,grad_G_w10)\n",
        "          grad_g_b10 = np.add(grad_g_b10,grad_G_b10)\n",
        "\n",
        "          grad_G_w9_part_1 = (grad_G_w10_part_1 * grad_G_w10_part_2).dot(G_W10.T)\n",
        "          grad_G_w9_part_2 = d_Lrelu(Gl9[batch_item])\n",
        "          grad_G_w9_part_3 = Gl8A[batch_item].reshape(1,hidden_input8)\n",
        "          grad_G_w9 = grad_G_w9_part_3.T.dot(grad_G_w9_part_1 * grad_G_w9_part_2)\n",
        "          grad_G_b9 = (grad_G_w9_part_1 * grad_G_w9_part_2)\n",
        "\n",
        "          grad_g_w9 = np.add(grad_g_w9,grad_G_w9)\n",
        "          grad_g_b9 = np.add(grad_g_b9,grad_G_b9)\n",
        "\n",
        "          grad_G_w8_part_1 = (grad_G_w9_part_1 * grad_G_w9_part_2).dot(G_W9.T)\n",
        "          grad_G_w8_part_2 = d_Lrelu(Gl8[batch_item])\n",
        "          grad_G_w8_part_3 = Gl7A[batch_item].reshape(1,hidden_input7)\n",
        "          grad_G_w8 = grad_G_w8_part_3.T.dot(grad_G_w8_part_1 * grad_G_w8_part_2)\n",
        "          grad_G_b8 = (grad_G_w8_part_1 * grad_G_w8_part_2)\n",
        "\n",
        "          grad_g_w8 = np.add(grad_g_w8,grad_G_w8)\n",
        "          grad_g_b8 = np.add(grad_g_b8,grad_G_b8)\n",
        "\n",
        "          grad_G_w7_part_1 = (grad_G_w8_part_1 * grad_G_w8_part_2).dot(G_W8.T)\n",
        "          grad_G_w7_part_2 = d_Lrelu(Gl7[batch_item])\n",
        "          grad_G_w7_part_3 = Gl6A[batch_item].reshape(1,hidden_input6)\n",
        "          grad_G_w7 = grad_G_w7_part_3.T.dot(grad_G_w7_part_1 * grad_G_w7_part_2)\n",
        "          grad_G_b7 = (grad_G_w7_part_1 * grad_G_w7_part_2)\n",
        "\n",
        "          grad_g_w7 = np.add(grad_g_w7,grad_G_w7)\n",
        "          grad_g_b7 = np.add(grad_g_b7,grad_G_b7)\n",
        "\n",
        "          grad_G_w6_part_1 = (grad_G_w7_part_1 * grad_G_w7_part_2).dot(G_W7.T)\n",
        "          grad_G_w6_part_2 = d_Lrelu(Gl6[batch_item])\n",
        "          grad_G_w6_part_3 = Gl5A[batch_item].reshape(1,hidden_input5)\n",
        "          grad_G_w6 = grad_G_w6_part_3.T.dot(grad_G_w6_part_1 * grad_G_w6_part_2)\n",
        "          grad_G_b6 = (grad_G_w6_part_1 * grad_G_w6_part_2)\n",
        "\n",
        "          grad_g_w6 = np.add(grad_g_w6,grad_G_w6)\n",
        "          grad_g_b6 = np.add(grad_g_b6,grad_G_b6)\n",
        "\n",
        "          grad_G_w5_part_1 = (grad_G_w6_part_1 * grad_G_w6_part_2).dot(G_W6.T)\n",
        "          grad_G_w5_part_2 = d_Lrelu(Gl5[batch_item])\n",
        "          grad_G_w5_part_3 = Gl4A[batch_item].reshape(1,hidden_input4)\n",
        "          grad_G_w5 = grad_G_w5_part_3.T.dot(grad_G_w5_part_1 * grad_G_w5_part_2)\n",
        "          grad_G_b5 = (grad_G_w5_part_1 * grad_G_w5_part_2)\n",
        "\n",
        "          grad_g_w5 = np.add(grad_g_w5,grad_G_w5)\n",
        "          grad_g_b5 = np.add(grad_g_b5,grad_G_b5)\n",
        "\n",
        "          grad_G_w4_part_1 = (grad_G_w5_part_1 * grad_G_w5_part_2).dot(G_W5.T)\n",
        "          grad_G_w4_part_2 = d_Lrelu(Gl4[batch_item])\n",
        "          grad_G_w4_part_3 = Gl3A[batch_item].reshape(1,hidden_input3)\n",
        "          grad_G_w4 = grad_G_w4_part_3.T.dot(grad_G_w4_part_1 * grad_G_w4_part_2)\n",
        "          grad_G_b4 = (grad_G_w4_part_1 * grad_G_w4_part_2)\n",
        "\n",
        "          grad_g_w4 = np.add(grad_g_w4,grad_G_w4)\n",
        "          grad_g_b4 = np.add(grad_g_b4,grad_G_b4)\n",
        "\n",
        "          grad_G_w3_part_1 = (grad_G_w4_part_1 * grad_G_w4_part_2).dot(G_W4.T)\n",
        "          grad_G_w3_part_2 = d_Lrelu(Gl3[batch_item])\n",
        "          grad_G_w3_part_3 = Gl2A[batch_item].reshape(1,hidden_input2)\n",
        "          grad_G_w3 = grad_G_w3_part_3.T.dot(grad_G_w3_part_1 * grad_G_w3_part_2)\n",
        "          grad_G_b3 = (grad_G_w3_part_1 * grad_G_w3_part_2)\n",
        "\n",
        "          grad_g_w3 = np.add(grad_g_w3,grad_G_w3)\n",
        "          grad_g_b3 = np.add(grad_g_b3,grad_G_b3)\n",
        "\n",
        "          grad_G_w2_part_1 = (grad_G_w3_part_1 * grad_G_w3_part_2).dot(G_W3.T)\n",
        "          grad_G_w2_part_2 = d_Lrelu(Gl2[batch_item])\n",
        "          grad_G_w2_part_3 = Gl1A[batch_item].reshape(1,hidden_input)\n",
        "          grad_G_w2 = grad_G_w2_part_3.T.dot(grad_G_w2_part_1 * grad_G_w2_part_2)\n",
        "          grad_G_b2 = (grad_G_w2_part_1 * grad_G_w2_part_2)\n",
        "\n",
        "          grad_g_w2 = np.add(grad_g_w2,grad_G_w2)\n",
        "          grad_g_b2 = np.add(grad_g_b2,grad_G_b2)\n",
        "\n",
        "          grad_G_w1_part_1 = (grad_G_w2_part_1 * grad_G_w2_part_2).dot(G_W2.T)\n",
        "          grad_G_w1_part_2 = d_Lrelu(Gl1[batch_item])\n",
        "          grad_G_w1_part_3 = Z[batch_item].reshape(1,100)\n",
        "          grad_G_w1 = grad_G_w1_part_3.T.dot(grad_G_w1_part_1 * grad_G_w1_part_2)\n",
        "          grad_G_b1 = grad_G_w1_part_1 * grad_G_w1_part_2\n",
        "\n",
        "          grad_g_w1 = np.add(grad_g_w1,grad_G_w1)\n",
        "          grad_g_b1 = np.add(grad_g_b1,grad_G_b1)\n",
        "\n",
        "          \n",
        "\n",
        "\n",
        "        toc = time.time()\n",
        "        gradientComputeGen.append((toc-tic)*1000)\n",
        "        # ---- Update Gradient ----\n",
        "\n",
        "        tic = time.time()\n",
        "        m5 = beta_1 * m5 + (1 - beta_1) * grad_g_w1\n",
        "        v5 = beta_2 * v5 + (1 - beta_2) * grad_g_w1 ** 2\n",
        "\n",
        "        m6 = beta_1 * m6 + (1 - beta_1) * grad_g_b1\n",
        "        v6 = beta_2 * v6 + (1 - beta_2) * grad_g_b1 ** 2\n",
        "\n",
        "        m7 = beta_1 * m7 + (1 - beta_1) * grad_g_w2\n",
        "        v7 = beta_2 * v7 + (1 - beta_2) * grad_g_w2 ** 2\n",
        "\n",
        "        m8 = beta_1 * m8 + (1 - beta_1) * grad_g_b2\n",
        "        v8 = beta_2 * v8 + (1 - beta_2) * grad_g_b2 ** 2\n",
        "\n",
        "        m9 = beta_1 * m9 + (1 - beta_1) * grad_g_w3\n",
        "        v9 = beta_2 * v9 + (1 - beta_2) * grad_g_w3 ** 2\n",
        "\n",
        "        m10 = beta_1 * m10 + (1 - beta_1) * grad_g_b3\n",
        "        v10 = beta_2 * v10 + (1 - beta_2) * grad_g_b3 ** 2\n",
        "\n",
        "        m11 = beta_1 * m11 + (1 - beta_1) * grad_g_w4\n",
        "        v11 = beta_2 * v11 + (1 - beta_2) * grad_g_w4 ** 2\n",
        "\n",
        "        m12 = beta_1 * m12 + (1 - beta_1) * grad_g_b4\n",
        "        v12 = beta_2 * v12 + (1 - beta_2) * grad_g_b4 ** 2\n",
        "\n",
        "        m13 = beta_1 * m13 + (1 - beta_1) * grad_g_w5\n",
        "        v13 = beta_2 * v13 + (1 - beta_2) * grad_g_w5 ** 2\n",
        "\n",
        "        m14 = beta_1 * m14 + (1 - beta_1) * grad_g_b5\n",
        "        v14 = beta_2 * v14 + (1 - beta_2) * grad_g_b5 ** 2\n",
        "\n",
        "        m15 = beta_1 * m15 + (1 - beta_1) * grad_g_w6\n",
        "        v15 = beta_2 * v15 + (1 - beta_2) * grad_g_w6 ** 2\n",
        "\n",
        "        m16 = beta_1 * m16 + (1 - beta_1) * grad_g_b6\n",
        "        v16 = beta_2 * v16 + (1 - beta_2) * grad_g_b6 ** 2\n",
        "\n",
        "        m17 = beta_1 * m17 + (1 - beta_1) * grad_g_w7\n",
        "        v17 = beta_2 * v17 + (1 - beta_2) * grad_g_w7 ** 2\n",
        "\n",
        "        m18 = beta_1 * m18 + (1 - beta_1) * grad_g_b7\n",
        "        v18 = beta_2 * v18 + (1 - beta_2) * grad_g_b7 ** 2\n",
        "\n",
        "        m19 = beta_1 * m19 + (1 - beta_1) * grad_g_w8\n",
        "        v19 = beta_2 * v19 + (1 - beta_2) * grad_g_w8 ** 2\n",
        "        m20 = beta_1 * m20 + (1 - beta_1) * grad_g_b8\n",
        "        v20 = beta_2 * v20 + (1 - beta_2) * grad_g_b8 ** 2\n",
        "\n",
        "        m21 = beta_1 * m21 + (1 - beta_1) * grad_g_w9\n",
        "        v21 = beta_2 * v21 + (1 - beta_2) * grad_g_w9 ** 2\n",
        "\n",
        "        m22 = beta_1 * m22 + (1 - beta_1) * grad_g_b9\n",
        "        v22 = beta_2 * v22 + (1 - beta_2) * grad_g_b9 ** 2\n",
        "\n",
        "        m23 = beta_1 * m23 + (1 - beta_1) * grad_g_w10\n",
        "        v23 = beta_2 * v23 + (1 - beta_2) * grad_g_w10 ** 2\n",
        "\n",
        "        m24 = beta_1 * m24 + (1 - beta_1) * grad_g_b10\n",
        "        v24 = beta_2 * v24 + (1 - beta_2) * grad_g_b10 ** 2\n",
        "\n",
        "        m25 = beta_1 * m25 + (1 - beta_1) * grad_g_w11\n",
        "        v25 = beta_2 * v25 + (1 - beta_2) * grad_g_w11 ** 2\n",
        "\n",
        "        m26 = beta_1 * m26 + (1 - beta_1) * grad_g_b11\n",
        "        v26 = beta_2 * v26 + (1 - beta_2) * grad_g_b11 ** 2\n",
        "\n",
        "\n",
        "        G_W1 = G_W1 - (learing_rate / (np.sqrt(v5 /(1-beta_2**iter )) + eps)) * (m5/(1-beta_1**iter)  + eps)\n",
        "        G_b1 = G_b1 - (learing_rate / (np.sqrt(v6 /(1-beta_2**iter )) + eps)) * (m6/(1-beta_1**iter)  + eps)\n",
        "\n",
        "        G_W2 = G_W2 - (learing_rate / (np.sqrt(v7 /(1-beta_2**iter )) + eps)) * (m7/(1-beta_1**iter)  + eps)\n",
        "        G_b2 = G_b2 - (learing_rate / (np.sqrt(v8 /(1-beta_2**iter )) + eps)) * (m8/(1-beta_1**iter)  + eps)\n",
        "\n",
        "        G_W3 = G_W3 - (learing_rate / (np.sqrt(v9 /(1-beta_2**iter )) + eps)) * (m9/(1-beta_1**iter)  + eps)\n",
        "        G_b3 = G_b3 - (learing_rate / (np.sqrt(v10 /(1-beta_2**iter )) + eps)) * (m10/(1-beta_1**iter)  + eps)\n",
        "\n",
        "        G_W4 = G_W4 - (learing_rate / (np.sqrt(v11 /(1-beta_2**iter )) + eps)) * (m11/(1-beta_1**iter)  + eps)\n",
        "        G_b4 = G_b4 - (learing_rate / (np.sqrt(v12 /(1-beta_2**iter )) + eps)) * (m12/(1-beta_1**iter)  + eps)\n",
        "\n",
        "        G_W5 = G_W5 - (learing_rate / (np.sqrt(v13 /(1-beta_2**iter )) + eps)) * (m13/(1-beta_1**iter)  + eps)\n",
        "        G_b5 = G_b5 - (learing_rate / (np.sqrt(v14 /(1-beta_2**iter )) + eps)) * (m14/(1-beta_1**iter)  + eps)\n",
        "\n",
        "        G_W6 = G_W6 - (learing_rate / (np.sqrt(v15 /(1-beta_2**iter )) + eps)) * (m15/(1-beta_1**iter)  + eps)\n",
        "        G_b6 = G_b6 - (learing_rate / (np.sqrt(v16 /(1-beta_2**iter )) + eps)) * (m16/(1-beta_1**iter)  + eps)\n",
        "\n",
        "        G_W7 = G_W7 - (learing_rate / (np.sqrt(v17 /(1-beta_2**iter ))+ eps)) * (m17/(1-beta_1**iter)  + eps)\n",
        "        G_b7 = G_b7 - (learing_rate / (np.sqrt(v18 /(1-beta_2**iter )) + eps)) * (m18/(1-beta_1**iter)  + eps)\n",
        "\n",
        "        G_W8 = G_W8 - (learing_rate / (np.sqrt(v19 /(1-beta_2**iter )) + eps)) * (m19/(1-beta_1**iter)  + eps)\n",
        "        G_b8 = G_b8 - (learing_rate / (np.sqrt(v20 /(1-beta_2**iter )) + eps)) * (m20/(1-beta_1**iter)  + eps)\n",
        "\n",
        "        G_W9 = G_W9 - (learing_rate / (np.sqrt(v21 /(1-beta_2**iter )) + eps)) * (m21/(1-beta_1**iter)  + eps)\n",
        "        G_b9 = G_b9 - (learing_rate / (np.sqrt(v22 /(1-beta_2**iter )) + eps)) * (m22/(1-beta_1**iter)  + eps)\n",
        "\n",
        "        G_W10 = G_W10 - (learing_rate / (np.sqrt(v23 /(1-beta_2**iter )) + eps)) * (m23/(1-beta_1**iter)  + eps)\n",
        "        G_b10 = G_b10 - (learing_rate / (np.sqrt(v24 /(1-beta_2**iter )) + eps)) * (m24/(1-beta_1**iter)  + eps)\n",
        "\n",
        "        G_W11 = G_W11 - (learing_rate / (np.sqrt(v25 /(1-beta_2**iter )) + eps)) * (m25/(1-beta_1**iter)  + eps)\n",
        "        G_b11 = G_b11 - (learing_rate / (np.sqrt(v26 /(1-beta_2**iter )) + eps)) * (m26/(1-beta_1**iter)  + eps)\n",
        "\n",
        "        # random_data = np.delete(random_data,[0,1,2,3,4,5])\n",
        "        toc = time.time()\n",
        "\n",
        "        backwardPropGen.append((toc-tic)*1000)\n",
        "    print(\"Current Epoch: \",iter, \" Current Iter:\",i, \" Current D cost:\",D_cost, \" Current G cost: \", G_cost)\n",
        "    \n",
        "    if i%5 == 0:\n",
        "        Z = np.random.normal(0., 1., size=[16, G_input]) \n",
        "        Gl1 = Z.dot(G_W1) + dupli_bias(G_b1, 16)\n",
        "        Gl1A = Lrelu(Gl1)\n",
        "        Gl2 = Gl1A.dot(G_W2) + dupli_bias(G_b2, 16)\n",
        "        Gl2A = Lrelu(Gl2)\n",
        "        Gl3 = Gl2A.dot(G_W3) + dupli_bias(G_b3, 16)\n",
        "        Gl3A = Lrelu(Gl3)\n",
        "        Gl4 = Gl3A.dot(G_W4) + dupli_bias(G_b4, 16)\n",
        "        Gl4A = Lrelu(Gl4)\n",
        "        Gl5 = Gl4A.dot(G_W5) + dupli_bias(G_b5, 16)\n",
        "        Gl5A = Lrelu(Gl5)\n",
        "        Gl6 = Gl5A.dot(G_W6) + dupli_bias(G_b6, 16)\n",
        "        Gl6A = Lrelu(Gl6)\n",
        "        Gl7 = Gl6A.dot(G_W7) + dupli_bias(G_b7, 16)\n",
        "        Gl7A = Lrelu(Gl7)\n",
        "        Gl8 = Gl7A.dot(G_W8) + dupli_bias(G_b8, 16)\n",
        "        Gl8A = Lrelu(Gl8)\n",
        "        Gl9 = Gl8A.dot(G_W9) + dupli_bias(G_b9, 16)\n",
        "        Gl9A = Lrelu(Gl9)\n",
        "        Gl10 = Gl9A.dot(G_W10) + dupli_bias(G_b10, 16)\n",
        "        Gl10A = Lrelu(Gl10)\n",
        "        Gl11 = Gl10A.dot(G_W11) + dupli_bias(G_b11, 16)\n",
        "        current_fake_data = log(Gl11)\n",
        "        plots(current_fake_data,\"TITLE\")\n",
        "    # ---- Print to Out put ----\n",
        "# -- end code --"
      ],
      "execution_count": 647,
      "outputs": [
        {
          "output_type": "stream",
          "text": [
            "--------- Started Training ----------\n",
            "W4 before (346, 1)\n",
            "M$V$ (346, 1)\n",
            "W4 after (346, 1)\n",
            "Current Epoch:  1  Current Iter: 0  Current D cost: 1.387148534321966  Current G cost:  0.684411187220252\n",
            "16\n"
          ],
          "name": "stdout"
        },
        {
          "output_type": "display_data",
          "data": {
            "image/png": "[encoded data removed]",
            "text/plain": [
              "<Figure size 432x288 with 16 Axes>"
            ]
          },
          "metadata": {
            "tags": []
          }
        },
        {
          "output_type": "stream",
          "text": [
            "W4 before (346, 1)\n",
            "M$V$ (346, 1)\n",
            "W4 after (346, 1)\n",
            "Current Epoch:  1  Current Iter: 1  Current D cost: 1.3861726322299333  Current G cost:  0.684411187220252\n",
            "W4 before (346, 1)\n",
            "M$V$ (346, 1)\n",
            "W4 after (346, 1)\n",
            "Current Epoch:  1  Current Iter: 2  Current D cost: 1.3857324307066545  Current G cost:  0.684411187220252\n",
            "W4 before (346, 1)\n",
            "M$V$ (346, 1)\n",
            "W4 after (346, 1)\n",
            "Current Epoch:  1  Current Iter: 3  Current D cost: 1.3865079191207648  Current G cost:  0.6824938118533127\n",
            "W4 before (346, 1)\n",
            "M$V$ (346, 1)\n",
            "W4 after (346, 1)\n",
            "Current Epoch:  1  Current Iter: 4  Current D cost: 1.3835576396234357  Current G cost:  0.6824938118533127\n",
            "W4 before (346, 1)\n",
            "M$V$ (346, 1)\n",
            "W4 after (346, 1)\n",
            "Current Epoch:  1  Current Iter: 5  Current D cost: 1.3873267332552814  Current G cost:  0.6824938118533127\n",
            "16\n"
          ],
          "name": "stdout"
        },
        {
          "output_type": "display_data",
          "data": {
            "image/png": "[encoded data removed]",
            "text/plain": [
              "<Figure size 432x288 with 16 Axes>"
            ]
          },
          "metadata": {
            "tags": []
          }
        },
        {
          "output_type": "stream",
          "text": [
            "W4 before (346, 1)\n",
            "M$V$ (346, 1)\n",
            "W4 after (346, 1)\n",
            "Current Epoch:  1  Current Iter: 6  Current D cost: 1.3863980122631627  Current G cost:  0.6828721324739816\n",
            "W4 before (346, 1)\n",
            "M$V$ (346, 1)\n",
            "W4 after (346, 1)\n",
            "Current Epoch:  1  Current Iter: 7  Current D cost: 1.3855459916287574  Current G cost:  0.6828721324739816\n",
            "W4 before (346, 1)\n",
            "M$V$ (346, 1)\n",
            "W4 after (346, 1)\n",
            "Current Epoch:  1  Current Iter: 8  Current D cost: 1.3854126519557897  Current G cost:  0.6828721324739816\n",
            "W4 before (346, 1)\n",
            "M$V$ (346, 1)\n",
            "W4 after (346, 1)\n",
            "Current Epoch:  1  Current Iter: 9  Current D cost: 1.388860843246742  Current G cost:  0.6815780829475285\n",
            "W4 before (346, 1)\n",
            "M$V$ (346, 1)\n",
            "W4 after (346, 1)\n",
            "Current Epoch:  1  Current Iter: 10  Current D cost: 1.3876732070682736  Current G cost:  0.6815780829475285\n",
            "16\n"
          ],
          "name": "stdout"
        },
        {
          "output_type": "display_data",
          "data": {
            "image/png": "[encoded data removed]",
            "text/plain": [
              "<Figure size 432x288 with 16 Axes>"
            ]
          },
          "metadata": {
            "tags": []
          }
        },
        {
          "output_type": "stream",
          "text": [
            "W4 before (346, 1)\n",
            "M$V$ (346, 1)\n",
            "W4 after (346, 1)\n",
            "Current Epoch:  1  Current Iter: 11  Current D cost: 1.3835219684784583  Current G cost:  0.6815780829475285\n",
            "W4 before (346, 1)\n",
            "M$V$ (346, 1)\n",
            "W4 after (346, 1)\n",
            "Current Epoch:  1  Current Iter: 12  Current D cost: 1.3883848809853019  Current G cost:  0.6793147898438712\n",
            "W4 before (346, 1)\n",
            "M$V$ (346, 1)\n",
            "W4 after (346, 1)\n",
            "Current Epoch:  1  Current Iter: 13  Current D cost: 1.3867636685530251  Current G cost:  0.6793147898438712\n",
            "W4 before (346, 1)\n",
            "M$V$ (346, 1)\n",
            "W4 after (346, 1)\n",
            "Current Epoch:  1  Current Iter: 14  Current D cost: 1.3858321904255804  Current G cost:  0.6793147898438712\n",
            "W4 before (346, 1)\n",
            "M$V$ (346, 1)\n",
            "W4 after (346, 1)\n",
            "Current Epoch:  1  Current Iter: 15  Current D cost: 1.3827250323883664  Current G cost:  0.6771720716823246\n",
            "16\n"
          ],
          "name": "stdout"
        },
        {
          "output_type": "display_data",
          "data": {
            "image/png": "[encoded data removed]",
            "text/plain": [
              "<Figure size 432x288 with 16 Axes>"
            ]
          },
          "metadata": {
            "tags": []
          }
        },
        {
          "output_type": "stream",
          "text": [
            "W4 before (346, 1)\n",
            "M$V$ (346, 1)\n",
            "W4 after (346, 1)\n",
            "Current Epoch:  1  Current Iter: 16  Current D cost: 1.3849345033628153  Current G cost:  0.6771720716823246\n",
            "W4 before (346, 1)\n",
            "M$V$ (346, 1)\n",
            "W4 after (346, 1)\n",
            "Current Epoch:  1  Current Iter: 17  Current D cost: 1.388321849667675  Current G cost:  0.6771720716823246\n",
            "W4 before (346, 1)\n",
            "M$V$ (346, 1)\n",
            "W4 after (346, 1)\n",
            "Current Epoch:  1  Current Iter: 18  Current D cost: 1.386022483010625  Current G cost:  0.6771841439327578\n",
            "W4 before (346, 1)\n",
            "M$V$ (346, 1)\n",
            "W4 after (346, 1)\n",
            "Current Epoch:  1  Current Iter: 19  Current D cost: 1.3823967209179424  Current G cost:  0.6771841439327578\n",
            "W4 before (346, 1)\n",
            "M$V$ (346, 1)\n",
            "W4 after (346, 1)\n",
            "Current Epoch:  1  Current Iter: 20  Current D cost: 1.3820431258900556  Current G cost:  0.6771841439327578\n",
            "16\n"
          ],
          "name": "stdout"
        },
        {
          "output_type": "display_data",
          "data": {
            "image/png": "[encoded data removed]",
            "text/plain": [
              "<Figure size 432x288 with 16 Axes>"
            ]
          },
          "metadata": {
            "tags": []
          }
        },
        {
          "output_type": "stream",
          "text": [
            "W4 before (346, 1)\n",
            "M$V$ (346, 1)\n",
            "W4 after (346, 1)\n",
            "Current Epoch:  1  Current Iter: 21  Current D cost: 1.3851773107537646  Current G cost:  0.6754797905048283\n",
            "W4 before (346, 1)\n",
            "M$V$ (346, 1)\n",
            "W4 after (346, 1)\n",
            "Current Epoch:  1  Current Iter: 22  Current D cost: 1.3882618929072237  Current G cost:  0.6754797905048283\n",
            "W4 before (346, 1)\n",
            "M$V$ (346, 1)\n",
            "W4 after (346, 1)\n",
            "Current Epoch:  1  Current Iter: 23  Current D cost: 1.3905897667905567  Current G cost:  0.6754797905048283\n",
            "W4 before (346, 1)\n",
            "M$V$ (346, 1)\n",
            "W4 after (346, 1)\n",
            "Current Epoch:  1  Current Iter: 24  Current D cost: 1.3865487474888125  Current G cost:  0.6706711722729329\n",
            "W4 before (346, 1)\n",
            "M$V$ (346, 1)\n",
            "W4 after (346, 1)\n",
            "Current Epoch:  1  Current Iter: 25  Current D cost: 1.381123168189724  Current G cost:  0.6706711722729329\n",
            "16\n"
          ],
          "name": "stdout"
        },
        {
          "output_type": "display_data",
          "data": {
            "image/png": "[encoded data removed]",
            "text/plain": [
              "<Figure size 432x288 with 16 Axes>"
            ]
          },
          "metadata": {
            "tags": []
          }
        },
        {
          "output_type": "stream",
          "text": [
            "W4 before (346, 1)\n",
            "M$V$ (346, 1)\n",
            "W4 after (346, 1)\n",
            "Current Epoch:  1  Current Iter: 26  Current D cost: 1.3860050163736641  Current G cost:  0.6706711722729329\n",
            "W4 before (346, 1)\n",
            "M$V$ (346, 1)\n",
            "W4 after (346, 1)\n",
            "Current Epoch:  1  Current Iter: 27  Current D cost: 1.3853431580550342  Current G cost:  0.6713196812506615\n",
            "W4 before (346, 1)\n",
            "M$V$ (346, 1)\n",
            "W4 after (346, 1)\n",
            "Current Epoch:  1  Current Iter: 28  Current D cost: 1.3786460544587449  Current G cost:  0.6713196812506615\n",
            "W4 before (346, 1)\n",
            "M$V$ (346, 1)\n",
            "W4 after (346, 1)\n",
            "Current Epoch:  1  Current Iter: 29  Current D cost: 1.3869284051079767  Current G cost:  0.6713196812506615\n",
            "W4 before (346, 1)\n",
            "M$V$ (346, 1)\n",
            "W4 after (346, 1)\n",
            "Current Epoch:  1  Current Iter: 30  Current D cost: 1.3856831353427093  Current G cost:  0.6675331899875795\n",
            "16\n"
          ],
          "name": "stdout"
        },
        {
          "output_type": "display_data",
          "data": {
            "image/png": "[encoded data removed]",
            "text/plain": [
              "<Figure size 432x288 with 16 Axes>"
            ]
          },
          "metadata": {
            "tags": []
          }
        },
        {
          "output_type": "stream",
          "text": [
            "W4 before (346, 1)\n",
            "M$V$ (346, 1)\n",
            "W4 after (346, 1)\n",
            "Current Epoch:  1  Current Iter: 31  Current D cost: 1.3797854987536395  Current G cost:  0.6675331899875795\n",
            "W4 before (346, 1)\n",
            "M$V$ (346, 1)\n",
            "W4 after (346, 1)\n",
            "Current Epoch:  1  Current Iter: 32  Current D cost: 1.3818963260050774  Current G cost:  0.6675331899875795\n",
            "W4 before (346, 1)\n",
            "M$V$ (346, 1)\n",
            "W4 after (346, 1)\n",
            "Current Epoch:  1  Current Iter: 33  Current D cost: 1.3813573183006633  Current G cost:  0.6696395839854722\n",
            "W4 before (346, 1)\n",
            "M$V$ (346, 1)\n",
            "W4 after (346, 1)\n",
            "Current Epoch:  1  Current Iter: 34  Current D cost: 1.3819194989041401  Current G cost:  0.6696395839854722\n",
            "W4 before (346, 1)\n",
            "M$V$ (346, 1)\n",
            "W4 after (346, 1)\n",
            "Current Epoch:  1  Current Iter: 35  Current D cost: 1.3801797642276314  Current G cost:  0.6696395839854722\n",
            "16\n"
          ],
          "name": "stdout"
        },
        {
          "output_type": "display_data",
          "data": {
            "image/png": "[encoded data removed]",
            "text/plain": [
              "<Figure size 432x288 with 16 Axes>"
            ]
          },
          "metadata": {
            "tags": []
          }
        },
        {
          "output_type": "stream",
          "text": [
            "W4 before (346, 1)\n",
            "M$V$ (346, 1)\n",
            "W4 after (346, 1)\n",
            "Current Epoch:  1  Current Iter: 36  Current D cost: 1.3824683027622435  Current G cost:  0.6672362152898792\n",
            "W4 before (346, 1)\n",
            "M$V$ (346, 1)\n",
            "W4 after (346, 1)\n",
            "Current Epoch:  1  Current Iter: 37  Current D cost: 1.3813622923557065  Current G cost:  0.6672362152898792\n",
            "W4 before (346, 1)\n",
            "M$V$ (346, 1)\n",
            "W4 after (346, 1)\n",
            "Current Epoch:  1  Current Iter: 38  Current D cost: 1.3757901821322434  Current G cost:  0.6672362152898792\n",
            "W4 before (346, 1)\n",
            "M$V$ (346, 1)\n",
            "W4 after (346, 1)\n",
            "Current Epoch:  1  Current Iter: 39  Current D cost: 1.383943941174505  Current G cost:  0.6681812646791123\n",
            "W4 before (346, 1)\n",
            "M$V$ (346, 1)\n",
            "W4 after (346, 1)\n",
            "Current Epoch:  1  Current Iter: 40  Current D cost: 1.3766201646607574  Current G cost:  0.6681812646791123\n",
            "16\n"
          ],
          "name": "stdout"
        },
        {
          "output_type": "display_data",
          "data": {
            "image/png": "[encoded data removed]",
            "text/plain": [
              "<Figure size 432x288 with 16 Axes>"
            ]
          },
          "metadata": {
            "tags": []
          }
        },
        {
          "output_type": "stream",
          "text": [
            "W4 before (346, 1)\n",
            "M$V$ (346, 1)\n",
            "W4 after (346, 1)\n",
            "Current Epoch:  1  Current Iter: 41  Current D cost: 1.3800698982967323  Current G cost:  0.6681812646791123\n",
            "W4 before (346, 1)\n",
            "M$V$ (346, 1)\n",
            "W4 after (346, 1)\n",
            "Current Epoch:  1  Current Iter: 42  Current D cost: 1.3769064488331342  Current G cost:  0.6625092505730628\n",
            "W4 before (346, 1)\n",
            "M$V$ (346, 1)\n",
            "W4 after (346, 1)\n",
            "Current Epoch:  1  Current Iter: 43  Current D cost: 1.3728021384211089  Current G cost:  0.6625092505730628\n",
            "W4 before (346, 1)\n",
            "M$V$ (346, 1)\n",
            "W4 after (346, 1)\n",
            "Current Epoch:  1  Current Iter: 44  Current D cost: 1.3757101437632384  Current G cost:  0.6625092505730628\n",
            "W4 before (346, 1)\n",
            "M$V$ (346, 1)\n",
            "W4 after (346, 1)\n",
            "Current Epoch:  1  Current Iter: 45  Current D cost: 1.3778225943261027  Current G cost:  0.664375221038716\n",
            "16\n"
          ],
          "name": "stdout"
        },
        {
          "output_type": "display_data",
          "data": {
            "image/png": "[encoded data removed]",
            "text/plain": [
              "<Figure size 432x288 with 16 Axes>"
            ]
          },
          "metadata": {
            "tags": []
          }
        },
        {
          "output_type": "stream",
          "text": [
            "W4 before (346, 1)\n",
            "M$V$ (346, 1)\n",
            "W4 after (346, 1)\n",
            "Current Epoch:  1  Current Iter: 46  Current D cost: 1.3818019123340926  Current G cost:  0.664375221038716\n",
            "W4 before (346, 1)\n",
            "M$V$ (346, 1)\n",
            "W4 after (346, 1)\n",
            "Current Epoch:  1  Current Iter: 47  Current D cost: 1.3755222438463295  Current G cost:  0.664375221038716\n",
            "W4 before (346, 1)\n",
            "M$V$ (346, 1)\n",
            "W4 after (346, 1)\n",
            "Current Epoch:  1  Current Iter: 48  Current D cost: 1.371193373298155  Current G cost:  0.6602246923743655\n",
            "W4 before (346, 1)\n",
            "M$V$ (346, 1)\n",
            "W4 after (346, 1)\n",
            "Current Epoch:  1  Current Iter: 49  Current D cost: 1.378347101561052  Current G cost:  0.6602246923743655\n",
            "W4 before (346, 1)\n",
            "M$V$ (346, 1)\n",
            "W4 after (346, 1)\n",
            "Current Epoch:  1  Current Iter: 50  Current D cost: 1.3680513990142336  Current G cost:  0.6602246923743655\n",
            "16\n"
          ],
          "name": "stdout"
        },
        {
          "output_type": "display_data",
          "data": {
            "image/png": "[encoded data removed]",
            "text/plain": [
              "<Figure size 432x288 with 16 Axes>"
            ]
          },
          "metadata": {
            "tags": []
          }
        },
        {
          "output_type": "stream",
          "text": [
            "W4 before (346, 1)\n",
            "M$V$ (346, 1)\n",
            "W4 after (346, 1)\n",
            "Current Epoch:  1  Current Iter: 51  Current D cost: 1.3734110856002995  Current G cost:  0.6577069141522394\n",
            "W4 before (346, 1)\n",
            "M$V$ (346, 1)\n",
            "W4 after (346, 1)\n",
            "Current Epoch:  1  Current Iter: 52  Current D cost: 1.3695474891123016  Current G cost:  0.6577069141522394\n",
            "W4 before (346, 1)\n",
            "M$V$ (346, 1)\n",
            "W4 after (346, 1)\n",
            "Current Epoch:  1  Current Iter: 53  Current D cost: 1.3686719329155959  Current G cost:  0.6577069141522394\n",
            "W4 before (346, 1)\n",
            "M$V$ (346, 1)\n",
            "W4 after (346, 1)\n"
          ],
          "name": "stdout"
        },
        {
          "output_type": "error",
          "ename": "KeyboardInterrupt",
          "evalue": "ignored",
          "traceback": [
            "\u001b[0;31m---------------------------------------------------------------------------\u001b[0m",
            "\u001b[0;31mKeyboardInterrupt\u001b[0m                         Traceback (most recent call last)",
            "\u001b[0;32m<ipython-input-647-cc91ecd17df5>\u001b[0m in \u001b[0;36m<module>\u001b[0;34m()\u001b[0m\n\u001b[1;32m    302\u001b[0m           \u001b[0mgrad_g_b11\u001b[0m \u001b[0;34m=\u001b[0m \u001b[0mnp\u001b[0m\u001b[0;34m.\u001b[0m\u001b[0madd\u001b[0m\u001b[0;34m(\u001b[0m\u001b[0mgrad_g_b11\u001b[0m\u001b[0;34m,\u001b[0m\u001b[0mgrad_G_b11\u001b[0m\u001b[0;34m)\u001b[0m\u001b[0;34m\u001b[0m\u001b[0;34m\u001b[0m\u001b[0m\n\u001b[1;32m    303\u001b[0m \u001b[0;34m\u001b[0m\u001b[0m\n\u001b[0;32m--> 304\u001b[0;31m           \u001b[0mgrad_G_w10_part_1\u001b[0m \u001b[0;34m=\u001b[0m \u001b[0;34m(\u001b[0m\u001b[0mgrad_G_w11_part_1\u001b[0m \u001b[0;34m*\u001b[0m \u001b[0mgrad_G_w11_part_2\u001b[0m\u001b[0;34m)\u001b[0m\u001b[0;34m.\u001b[0m\u001b[0mdot\u001b[0m\u001b[0;34m(\u001b[0m\u001b[0mG_W11\u001b[0m\u001b[0;34m.\u001b[0m\u001b[0mT\u001b[0m\u001b[0;34m)\u001b[0m\u001b[0;34m\u001b[0m\u001b[0;34m\u001b[0m\u001b[0m\n\u001b[0m\u001b[1;32m    305\u001b[0m           \u001b[0mgrad_G_w10_part_2\u001b[0m \u001b[0;34m=\u001b[0m \u001b[0md_Lrelu\u001b[0m\u001b[0;34m(\u001b[0m\u001b[0mGl10\u001b[0m\u001b[0;34m[\u001b[0m\u001b[0mbatch_item\u001b[0m\u001b[0;34m]\u001b[0m\u001b[0;34m)\u001b[0m\u001b[0;34m\u001b[0m\u001b[0;34m\u001b[0m\u001b[0m\n\u001b[1;32m    306\u001b[0m           \u001b[0mgrad_G_w10_part_3\u001b[0m \u001b[0;34m=\u001b[0m \u001b[0mGl9A\u001b[0m\u001b[0;34m[\u001b[0m\u001b[0mbatch_item\u001b[0m\u001b[0;34m]\u001b[0m\u001b[0;34m.\u001b[0m\u001b[0mreshape\u001b[0m\u001b[0;34m(\u001b[0m\u001b[0;36m1\u001b[0m\u001b[0;34m,\u001b[0m\u001b[0mhidden_input9\u001b[0m\u001b[0;34m)\u001b[0m\u001b[0;34m\u001b[0m\u001b[0;34m\u001b[0m\u001b[0m\n",
            "\u001b[0;31mKeyboardInterrupt\u001b[0m: "
          ]
        }
      ]
    },
    {
      "cell_type": "code",
      "metadata": {
        "id": "_FzrLFQvGIga",
        "colab_type": "code",
        "colab": {
          "base_uri": "https://localhost:8080/",
          "height": 253
        },
        "outputId": "f052820e-6441-4d3e-8d0e-476d3b314c59"
      },
      "source": [
        ""
      ],
      "execution_count": 645,
      "outputs": [
        {
          "output_type": "execute_result",
          "data": {
            "text/plain": [
              "array([[ 0.00498669, -0.00119476,  0.0013546 , ...,  0.00174775,\n",
              "        -0.0026043 , -0.00346045],\n",
              "       [ 0.00360424, -0.0008431 , -0.00403571, ...,  0.00473237,\n",
              "         0.00352494, -0.00284963],\n",
              "       [-0.00066019, -0.00515017,  0.00677892, ..., -0.00150088,\n",
              "        -0.00613317, -0.00070498],\n",
              "       ...,\n",
              "       [ 0.00534563,  0.00152124, -0.00229269, ...,  0.0053063 ,\n",
              "        -0.00458631, -0.00319274],\n",
              "       [ 0.00410986,  0.00246199,  0.00226438, ...,  0.00060968,\n",
              "        -0.00056571, -0.0005924 ],\n",
              "       [-0.00012656, -0.00482443,  0.00019516, ..., -0.00247348,\n",
              "        -0.00251386, -0.00522462]])"
            ]
          },
          "metadata": {
            "tags": []
          },
          "execution_count": 645
        }
      ]
    },
    {
      "cell_type": "code",
      "metadata": {
        "id": "TQmZ2XFXX890",
        "colab_type": "code",
        "outputId": "701439dc-4703-4318-ecd1-b1f1316335cc",
        "colab": {
          "base_uri": "https://localhost:8080/",
          "height": 263
        }
      },
      "source": [
        ""
      ],
      "execution_count": 509,
      "outputs": [
        {
          "output_type": "error",
          "ename": "ValueError",
          "evalue": "ignored",
          "traceback": [
            "\u001b[0;31m---------------------------------------------------------------------------\u001b[0m",
            "\u001b[0;31mValueError\u001b[0m                                Traceback (most recent call last)",
            "\u001b[0;32m<ipython-input-509-eef32dfae893>\u001b[0m in \u001b[0;36m<module>\u001b[0;34m()\u001b[0m\n\u001b[0;32m----> 1\u001b[0;31m \u001b[0mgrad_G_w11_part_1\u001b[0m \u001b[0;34m=\u001b[0m \u001b[0;34m(\u001b[0m\u001b[0;34m(\u001b[0m\u001b[0;34m(\u001b[0m\u001b[0;34m(\u001b[0m \u001b[0;34m(\u001b[0m\u001b[0;34m-\u001b[0m\u001b[0;36m1\u001b[0m\u001b[0;34m/\u001b[0m\u001b[0;34m(\u001b[0m\u001b[0mDl4_A\u001b[0m\u001b[0;34m[\u001b[0m\u001b[0mbatch_item\u001b[0m\u001b[0;34m]\u001b[0m \u001b[0;34m+\u001b[0m \u001b[0meps\u001b[0m\u001b[0;34m)\u001b[0m\u001b[0;34m)\u001b[0m \u001b[0;34m*\u001b[0m \u001b[0md_log\u001b[0m\u001b[0;34m(\u001b[0m\u001b[0mDl4\u001b[0m\u001b[0;34m[\u001b[0m\u001b[0mbatch_item\u001b[0m\u001b[0;34m]\u001b[0m\u001b[0;34m)\u001b[0m\u001b[0;34m.\u001b[0m\u001b[0mreshape\u001b[0m\u001b[0;34m(\u001b[0m\u001b[0;36m346\u001b[0m\u001b[0;34m,\u001b[0m\u001b[0;36m1\u001b[0m\u001b[0;34m)\u001b[0m\u001b[0;34m.\u001b[0m\u001b[0mdot\u001b[0m\u001b[0;34m(\u001b[0m\u001b[0mD_W4\u001b[0m\u001b[0;34m.\u001b[0m\u001b[0mT\u001b[0m\u001b[0;34m)\u001b[0m \u001b[0;34m*\u001b[0m \u001b[0;34m(\u001b[0m\u001b[0md_Lrelu\u001b[0m\u001b[0;34m(\u001b[0m\u001b[0mDl3\u001b[0m\u001b[0;34m[\u001b[0m\u001b[0mbatch_item\u001b[0m\u001b[0;34m]\u001b[0m\u001b[0;34m)\u001b[0m\u001b[0;34m)\u001b[0m \u001b[0;34m)\u001b[0m\u001b[0;34m.\u001b[0m\u001b[0mdot\u001b[0m\u001b[0;34m(\u001b[0m\u001b[0mD_W3\u001b[0m\u001b[0;34m.\u001b[0m\u001b[0mT\u001b[0m\u001b[0;34m)\u001b[0m \u001b[0;34m*\u001b[0m \u001b[0;34m(\u001b[0m\u001b[0md_Lrelu\u001b[0m\u001b[0;34m(\u001b[0m\u001b[0mDl2\u001b[0m\u001b[0;34m[\u001b[0m\u001b[0mbatch_item\u001b[0m\u001b[0;34m]\u001b[0m\u001b[0;34m)\u001b[0m\u001b[0;34m)\u001b[0m\u001b[0;34m)\u001b[0m\u001b[0;34m.\u001b[0m\u001b[0mdot\u001b[0m\u001b[0;34m(\u001b[0m\u001b[0mD_W2\u001b[0m\u001b[0;34m.\u001b[0m\u001b[0mT\u001b[0m\u001b[0;34m)\u001b[0m \u001b[0;34m*\u001b[0m \u001b[0;34m(\u001b[0m\u001b[0md_Lrelu\u001b[0m\u001b[0;34m(\u001b[0m\u001b[0mDl1\u001b[0m\u001b[0;34m[\u001b[0m\u001b[0mbatch_item\u001b[0m\u001b[0;34m]\u001b[0m\u001b[0;34m)\u001b[0m\u001b[0;34m)\u001b[0m\u001b[0;34m)\u001b[0m\u001b[0;34m.\u001b[0m\u001b[0mdot\u001b[0m\u001b[0;34m(\u001b[0m\u001b[0mD_W1\u001b[0m\u001b[0;34m.\u001b[0m\u001b[0mT\u001b[0m\u001b[0;34m)\u001b[0m\u001b[0;34m)\u001b[0m\u001b[0;34m.\u001b[0m\u001b[0mreshape\u001b[0m\u001b[0;34m(\u001b[0m\u001b[0;36m1\u001b[0m\u001b[0;34m,\u001b[0m\u001b[0;36m784\u001b[0m\u001b[0;34m)\u001b[0m\u001b[0;34m\u001b[0m\u001b[0;34m\u001b[0m\u001b[0m\n\u001b[0m\u001b[1;32m      2\u001b[0m \u001b[0mgrad_G_w11_part_2\u001b[0m \u001b[0;34m=\u001b[0m \u001b[0md_log\u001b[0m\u001b[0;34m(\u001b[0m\u001b[0mGl11\u001b[0m\u001b[0;34m[\u001b[0m\u001b[0mbatch_item\u001b[0m\u001b[0;34m]\u001b[0m\u001b[0;34m)\u001b[0m\u001b[0;34m\u001b[0m\u001b[0;34m\u001b[0m\u001b[0m\n\u001b[1;32m      3\u001b[0m \u001b[0mgrad_G_w11_part_3\u001b[0m \u001b[0;34m=\u001b[0m \u001b[0mGl10A\u001b[0m\u001b[0;34m[\u001b[0m\u001b[0mbatch_item\u001b[0m\u001b[0;34m]\u001b[0m\u001b[0;34m\u001b[0m\u001b[0;34m\u001b[0m\u001b[0m\n\u001b[1;32m      4\u001b[0m \u001b[0mgrad_G_w11\u001b[0m \u001b[0;34m=\u001b[0m \u001b[0mgrad_G_w11_part_3\u001b[0m\u001b[0;34m.\u001b[0m\u001b[0mT\u001b[0m\u001b[0;34m.\u001b[0m\u001b[0mdot\u001b[0m\u001b[0;34m(\u001b[0m\u001b[0mgrad_G_w11_part_1\u001b[0m \u001b[0;34m*\u001b[0m \u001b[0mgrad_G_w11_part_1\u001b[0m\u001b[0;34m)\u001b[0m\u001b[0;34m\u001b[0m\u001b[0;34m\u001b[0m\u001b[0m\n\u001b[1;32m      5\u001b[0m \u001b[0mgrad_G_b11\u001b[0m \u001b[0;34m=\u001b[0m \u001b[0mgrad_G_w11_part_1\u001b[0m \u001b[0;34m*\u001b[0m \u001b[0mgrad_G_w11_part_2\u001b[0m\u001b[0;34m\u001b[0m\u001b[0;34m\u001b[0m\u001b[0m\n",
            "\u001b[0;31mValueError\u001b[0m: cannot reshape array of size 271264 into shape (1,784)"
          ]
        }
      ]
    },
    {
      "cell_type": "code",
      "metadata": {
        "id": "-949rVgZWeCt",
        "colab_type": "code",
        "outputId": "9f3e3d88-f9a6-47af-9c39-ec5cd13c7d01",
        "colab": {
          "base_uri": "https://localhost:8080/",
          "height": 35
        }
      },
      "source": [
        ""
      ],
      "execution_count": 600,
      "outputs": [
        {
          "output_type": "execute_result",
          "data": {
            "text/plain": [
              "(128, 256)"
            ]
          },
          "metadata": {
            "tags": []
          },
          "execution_count": 600
        }
      ]
    },
    {
      "cell_type": "code",
      "metadata": {
        "colab_type": "code",
        "id": "zYry6Fe6eL4m",
        "colab": {}
      },
      "source": [
        ""
      ],
      "execution_count": 0,
      "outputs": []
    },
    {
      "cell_type": "code",
      "metadata": {
        "id": "Z_59RtsZGIgx",
        "colab_type": "code",
        "outputId": "643b4f71-735f-476c-fcce-f591f2b68d6e",
        "colab": {}
      },
      "source": [
        "import matplotlib.pyplot as plt\n",
        "plt.figure(figsize=(5,7))\n",
        "plt.plot(forwardPropGen1, color = 'tab:blue', label = 'Forward Prop Gen 1')\n",
        "plt.plot(forwardPropDisc1,color = 'tab:green', label = 'Forward Prop Disc Real')\n",
        "plt.plot(forwardPropDisc2,color = 'tab:red', label = 'Forward Prop Disc Fake')\n",
        "plt.plot(gradientComputeDisc1,color = 'tab:gray', label = 'Gradient Discriminator Real')\n",
        "plt.plot(gradientComputeDisc2,color = 'tab:olive', label = 'Gradient Discriminator Real')\n",
        "plt.plot(backwardPropDisc,color = 'tab:pink', label = 'Backward Prop Disc')\n",
        "plt.plot(forwardPropGen2,color = 'tab:orange', label = 'Forward Prop Gen 2 (Train Gen)')\n",
        "plt.plot(forwardPropDisc3,color = 'tab:purple', label = 'Forward Prop Disc (Train Gen)')\n",
        "plt.plot(gradientComputeGen,color = 'tab:cyan', label = 'Gradient Compute Gen')\n",
        "plt.plot(backwardPropGen,color = 'tab:brown', label = 'Backward Prop Gen')\n",
        "plt.legend(bbox_to_anchor=(1.1, 1.05))\n",
        "plt.xlabel(\"Epochs\")\n",
        "plt.ylabel(\"Time in ms\")\n",
        "plt.show()"
      ],
      "execution_count": 0,
      "outputs": [
        {
          "output_type": "display_data",
          "data": {
            "image/png": "[encoded data removed]",
            "text/plain": [
              "<Figure size 360x504 with 1 Axes>"
            ]
          },
          "metadata": {
            "tags": []
          }
        }
      ]
    },
    {
      "cell_type": "code",
      "metadata": {
        "colab_type": "code",
        "id": "Sub4goywbfRI",
        "outputId": "be533668-df23-4863-b996-4292364b6c32",
        "colab": {
          "base_uri": "https://localhost:8080/",
          "height": 1000
        }
      },
      "source": [
        "l=[]\n",
        "for i in range(15):\n",
        "    Z = np.random.normal(0., 1., size=[100, G_input])\n",
        "    Gl1 = Z.dot(G_W1) + G_b1\n",
        "    Gl1A = Lrelu(Gl1)\n",
        "    Gl2 = Gl1A.dot(G_W2) + G_b2\n",
        "    Gl2A = Lrelu(Gl2)\n",
        "    Gl3 = Gl2A.dot(G_W3) + G_b3\n",
        "    Gl3A = Lrelu(Gl3)\n",
        "    Gl4 = Gl3A.dot(G_W4) + G_b4\n",
        "    Gl4A = Lrelu(Gl4)\n",
        "    Gl5 = Gl4A.dot(G_W5) + G_b5\n",
        "    Gl5A = Lrelu(Gl5)\n",
        "    Gl6 = Gl5A.dot(G_W6) + G_b6\n",
        "    Gl6A = Lrelu(Gl6)\n",
        "    Gl7 = Gl6A.dot(G_W7) + G_b7\n",
        "    Gl7A = Lrelu(Gl7)\n",
        "    Gl8 = Gl7A.dot(G_W8) + G_b8\n",
        "    Gl8A = Lrelu(Gl8)\n",
        "    Gl9 = Gl8A.dot(G_W9) + G_b9\n",
        "    Gl9A = Lrelu(Gl9)\n",
        "    Gl10 = Gl9A.dot(G_W10) + G_b10\n",
        "    Gl10A = Lrelu(Gl10)\n",
        "    Gl11 = Gl10A.dot(G_W11) + G_b11\n",
        "    \n",
        "    current_fake_data = log(Gl11)\n",
        "    l.append(current_fake_data)\n",
        "\n",
        "fig = plot(l,\"TEST\")\n",
        "fig.savefig('Click_Me_{}.png'.format(str(iter).zfill(3)+\"_Ginput_\"+str(G_input)+ \"_hiddenone\"+str(hidden_input) + \"_hiddentwo\"+str(hidden_input2) + \"_LR_\" + str(learing_rate)), bbox_inches='tight')"
      ],
      "execution_count": 0,
      "outputs": [
        {
          "output_type": "stream",
          "text": [
            "15\n"
          ],
          "name": "stdout"
        },
        {
          "output_type": "display_data",
          "data": {
            "image/png": "[encoded data removed]",
            "text/plain": [
              "<Figure size 288x288 with 15 Axes>"
            ]
          },
          "metadata": {
            "tags": []
          }
        }
      ]
    },
    {
      "cell_type": "code",
      "metadata": {
        "colab_type": "code",
        "id": "FnpFQdTpbfRS",
        "outputId": "2f5c385d-f573-49c3-cb7b-8233b8231c6b",
        "colab": {
          "base_uri": "https://localhost:8080/",
          "height": 525
        }
      },
      "source": [
        "# This is currently not working. \n",
        "\n",
        "Z = np.random.normal(0., 1., size=[1, G_input])\n",
        "Gl1 = Z.dot(G_W1) + G_b1\n",
        "print(\"bias\", G_b1.shape)\n",
        "Gl1A = Lrelu(Gl1)\n",
        "Gl2 = Gl1A.dot(G_W2) + G_b2\n",
        "Gl2A = Lrelu(Gl2)\n",
        "Gl3 = Gl2A.dot(G_W3) + G_b3\n",
        "Gl3A = Lrelu(Gl3)\n",
        "Gl4 = Gl3A.dot(G_W4) + G_b4\n",
        "Gl4A = Lrelu(Gl4)\n",
        "Gl5 = Gl4A.dot(G_W5) + G_b5\n",
        "Gl5A = Lrelu(Gl5)\n",
        "Gl6 = Gl5A.dot(G_W6) + G_b6\n",
        "Gl6A = Lrelu(Gl6)\n",
        "Gl7 = Gl6A.dot(G_W7) + G_b7\n",
        "Gl7A = Lrelu(Gl7)\n",
        "Gl8 = Gl7A.dot(G_W8) + G_b8\n",
        "Gl8A = Lrelu(Gl8)\n",
        "Gl9 = Gl8A.dot(G_W9) + G_b9\n",
        "Gl9A = Lrelu(Gl9)\n",
        "Gl10 = Gl9A.dot(G_W10) + G_b10\n",
        "Gl10A = Lrelu(Gl10)\n",
        "Gl11 = Gl10A.dot(G_W11) + G_b11\n",
        "\n",
        "current_fake_data = log(Gl11)\n",
        "print(\"current_fake shape: \", current_fake_data.shape)\n",
        "\n",
        "Y = np.random.normal(0., 1., size=[1, G_input])\n",
        "Gl1 = Y.dot(G_W1) + G_b1\n",
        "Gl1A = Lrelu(Gl1)\n",
        "Gl2 = Gl1A.dot(G_W2) + G_b2\n",
        "Gl2A = Lrelu(Gl2)\n",
        "Gl3 = Gl2A.dot(G_W3) + G_b3\n",
        "Gl3A = Lrelu(Gl3)\n",
        "Gl4 = Gl3A.dot(G_W4) + G_b4\n",
        "Gl4A = Lrelu(Gl4)\n",
        "Gl5 = Gl4A.dot(G_W5) + G_b5\n",
        "Gl5A = Lrelu(Gl5)\n",
        "Gl6 = Gl5A.dot(G_W6) + G_b6\n",
        "Gl6A = Lrelu(Gl6)\n",
        "Gl7 = Gl6A.dot(G_W7) + G_b7\n",
        "Gl7A = Lrelu(Gl7)\n",
        "Gl8 = Gl7A.dot(G_W8) + G_b8\n",
        "Gl8A = Lrelu(Gl8)\n",
        "Gl9 = Gl8A.dot(G_W9) + G_b9\n",
        "Gl9A = Lrelu(Gl9)\n",
        "Gl10 = Gl9A.dot(G_W10) + G_b10\n",
        "Gl10A = Lrelu(Gl10)\n",
        "Gl11 = Gl10A.dot(G_W11) + G_b11\n",
        "\n",
        "s_data = log(Gl11)\n",
        "print(\"s_data shape: \", s_data.shape)\n",
        "print((s_data - current_fake_data).shape)\n",
        "fig = plot(s_data - current_fake_data,\"TEST\")\n",
        "\n"
      ],
      "execution_count": 0,
      "outputs": [
        {
          "output_type": "stream",
          "text": [
            "bias (128,)\n",
            "current_fake shape:  (1, 784)\n",
            "s_data shape:  (1, 784)\n",
            "(1, 784)\n",
            "1\n"
          ],
          "name": "stdout"
        },
        {
          "output_type": "error",
          "ename": "ValueError",
          "evalue": "cannot reshape array of size 784 into shape (100,28,28)",
          "traceback": [
            "\u001b[1;31m---------------------------------------------------------------------------\u001b[0m",
            "\u001b[1;31mValueError\u001b[0m                                Traceback (most recent call last)",
            "\u001b[1;32m<ipython-input-18-62dc71b00172>\u001b[0m in \u001b[0;36m<module>\u001b[1;34m()\u001b[0m\n\u001b[0;32m     54\u001b[0m \u001b[0mprint\u001b[0m\u001b[1;33m(\u001b[0m\u001b[1;34m\"s_data shape: \"\u001b[0m\u001b[1;33m,\u001b[0m \u001b[0ms_data\u001b[0m\u001b[1;33m.\u001b[0m\u001b[0mshape\u001b[0m\u001b[1;33m)\u001b[0m\u001b[1;33m\u001b[0m\u001b[0m\n\u001b[0;32m     55\u001b[0m \u001b[0mprint\u001b[0m\u001b[1;33m(\u001b[0m\u001b[1;33m(\u001b[0m\u001b[0ms_data\u001b[0m \u001b[1;33m-\u001b[0m \u001b[0mcurrent_fake_data\u001b[0m\u001b[1;33m)\u001b[0m\u001b[1;33m.\u001b[0m\u001b[0mshape\u001b[0m\u001b[1;33m)\u001b[0m\u001b[1;33m\u001b[0m\u001b[0m\n\u001b[1;32m---> 56\u001b[1;33m \u001b[0mfig\u001b[0m \u001b[1;33m=\u001b[0m \u001b[0mplot\u001b[0m\u001b[1;33m(\u001b[0m\u001b[0ms_data\u001b[0m \u001b[1;33m-\u001b[0m \u001b[0mcurrent_fake_data\u001b[0m\u001b[1;33m,\u001b[0m\u001b[1;34m\"TEST\"\u001b[0m\u001b[1;33m)\u001b[0m\u001b[1;33m\u001b[0m\u001b[0m\n\u001b[0m",
            "\u001b[1;32m<ipython-input-3-2002454c9538>\u001b[0m in \u001b[0;36mplot\u001b[1;34m(samples, title)\u001b[0m\n\u001b[0;32m     44\u001b[0m         \u001b[0max\u001b[0m\u001b[1;33m.\u001b[0m\u001b[0mset_aspect\u001b[0m\u001b[1;33m(\u001b[0m\u001b[1;34m'equal'\u001b[0m\u001b[1;33m)\u001b[0m\u001b[1;33m\u001b[0m\u001b[0m\n\u001b[0;32m     45\u001b[0m         \u001b[0mplt\u001b[0m\u001b[1;33m.\u001b[0m\u001b[0mtitle\u001b[0m\u001b[1;33m(\u001b[0m\u001b[0mtitle\u001b[0m\u001b[1;33m)\u001b[0m\u001b[1;33m\u001b[0m\u001b[0m\n\u001b[1;32m---> 46\u001b[1;33m         \u001b[0msample_resized\u001b[0m \u001b[1;33m=\u001b[0m \u001b[0msample\u001b[0m\u001b[1;33m.\u001b[0m\u001b[0mreshape\u001b[0m\u001b[1;33m(\u001b[0m\u001b[0mbatch_size\u001b[0m\u001b[1;33m,\u001b[0m \u001b[1;36m28\u001b[0m\u001b[1;33m,\u001b[0m \u001b[1;36m28\u001b[0m\u001b[1;33m)\u001b[0m\u001b[1;33m\u001b[0m\u001b[0m\n\u001b[0m\u001b[0;32m     47\u001b[0m         \u001b[1;31m# plt.imshow(sample.reshape(5, 28, 28), cmap='Greys_r')\u001b[0m\u001b[1;33m\u001b[0m\u001b[1;33m\u001b[0m\u001b[0m\n\u001b[0;32m     48\u001b[0m         \u001b[0mplt\u001b[0m\u001b[1;33m.\u001b[0m\u001b[0mimshow\u001b[0m\u001b[1;33m(\u001b[0m\u001b[0msample_resized\u001b[0m\u001b[1;33m[\u001b[0m\u001b[1;36m0\u001b[0m\u001b[1;33m]\u001b[0m\u001b[1;33m,\u001b[0m \u001b[0mcmap\u001b[0m\u001b[1;33m=\u001b[0m\u001b[1;34m'Greys_r'\u001b[0m\u001b[1;33m)\u001b[0m\u001b[1;33m\u001b[0m\u001b[0m\n",
            "\u001b[1;31mValueError\u001b[0m: cannot reshape array of size 784 into shape (100,28,28)"
          ]
        },
        {
          "output_type": "display_data",
          "data": {
            "image/png": "[encoded data removed]",
            "text/plain": [
              "<Figure size 288x288 with 1 Axes>"
            ]
          },
          "metadata": {
            "tags": []
          }
        }
      ]
    },
    {
      "cell_type": "code",
      "metadata": {
        "colab_type": "code",
        "id": "RfjgFlc9bfRf",
        "colab": {}
      },
      "source": [
        "print((grad_r_w4_part_1 * grad_r_w4_part_2).shape)"
      ],
      "execution_count": 0,
      "outputs": []
    },
    {
      "cell_type": "code",
      "metadata": {
        "colab_type": "code",
        "id": "sXhuAW8zbfRs",
        "outputId": "0353964f-6ad3-41d3-fcf1-b19f6a09cae1",
        "colab": {}
      },
      "source": [
        "print(len(l[0]))"
      ],
      "execution_count": 0,
      "outputs": [
        {
          "output_type": "stream",
          "text": [
            "100\n"
          ],
          "name": "stdout"
        }
      ]
    },
    {
      "cell_type": "code",
      "metadata": {
        "colab_type": "code",
        "id": "ZA9tB9_2bfR2",
        "outputId": "10447fea-2504-415f-8d79-4523df3e1634",
        "colab": {}
      },
      "source": [
        "plot([current_images],\"REAL\")"
      ],
      "execution_count": 0,
      "outputs": [
        {
          "output_type": "stream",
          "text": [
            "1\n"
          ],
          "name": "stdout"
        },
        {
          "output_type": "execute_result",
          "data": {
            "image/png": "[encoded data removed]",
            "text/plain": [
              "<Figure size 288x288 with 1 Axes>"
            ]
          },
          "metadata": {
            "tags": []
          },
          "execution_count": 40
        },
        {
          "output_type": "display_data",
          "data": {
            "image/png": "[encoded data removed]",
            "text/plain": [
              "<Figure size 288x288 with 1 Axes>"
            ]
          },
          "metadata": {
            "tags": []
          }
        }
      ]
    },
    {
      "cell_type": "code",
      "metadata": {
        "colab_type": "code",
        "id": "56R3Qb35bfSC",
        "colab": {}
      },
      "source": [
        "print(grad_r_w4_part_3.T.dot(grad_r_w4_part_1 * grad_r_w4_part_2)"
      ],
      "execution_count": 0,
      "outputs": []
    },
    {
      "cell_type": "code",
      "metadata": {
        "colab_type": "code",
        "id": "4twoZKgvbfSk",
        "colab": {}
      },
      "source": [
        "    \n",
        "current_image = [np.expand_dims(images[i],axis=0) for i in range(50)]\n",
        "    \n",
        "current_images = np.vstack(current_image)"
      ],
      "execution_count": 0,
      "outputs": []
    },
    {
      "cell_type": "code",
      "metadata": {
        "colab_type": "code",
        "id": "0b_-c-6TbfTC",
        "colab": {}
      },
      "source": [
        "print(grad_G_w11_part_2.shape)"
      ],
      "execution_count": 0,
      "outputs": []
    },
    {
      "cell_type": "code",
      "metadata": {
        "colab_type": "code",
        "id": "lGK_P4habfTp",
        "outputId": "42682d27-3286-4931-a92b-ce02deecd6e6",
        "colab": {}
      },
      "source": [
        "len(current_images)"
      ],
      "execution_count": 0,
      "outputs": [
        {
          "output_type": "execute_result",
          "data": {
            "text/plain": [
              "100"
            ]
          },
          "metadata": {
            "tags": []
          },
          "execution_count": 107
        }
      ]
    },
    {
      "cell_type": "code",
      "metadata": {
        "id": "X4KSfU_tGIh_",
        "colab_type": "code",
        "colab": {
          "base_uri": "https://localhost:8080/",
          "height": 189
        },
        "outputId": "91ec3db2-9302-42cc-d189-f1db6c47322e"
      },
      "source": [
        ""
      ],
      "execution_count": 131,
      "outputs": [
        {
          "output_type": "error",
          "ename": "TypeError",
          "evalue": "ignored",
          "traceback": [
            "\u001b[0;31m---------------------------------------------------------------------------\u001b[0m",
            "\u001b[0;31mTypeError\u001b[0m                                 Traceback (most recent call last)",
            "\u001b[0;32m<ipython-input-131-b11282365fab>\u001b[0m in \u001b[0;36m<module>\u001b[0;34m()\u001b[0m\n\u001b[0;32m----> 1\u001b[0;31m \u001b[0;32mfor\u001b[0m \u001b[0mi\u001b[0m \u001b[0;32min\u001b[0m \u001b[0mlen\u001b[0m\u001b[0;34m(\u001b[0m\u001b[0mrBatch\u001b[0m\u001b[0;34m[\u001b[0m\u001b[0;36m0\u001b[0m\u001b[0;34m]\u001b[0m\u001b[0;34m)\u001b[0m\u001b[0;34m:\u001b[0m\u001b[0;34m\u001b[0m\u001b[0;34m\u001b[0m\u001b[0m\n\u001b[0m\u001b[1;32m      2\u001b[0m   \u001b[0mprint\u001b[0m\u001b[0;34m(\u001b[0m\u001b[0mi\u001b[0m\u001b[0;34m)\u001b[0m\u001b[0;34m\u001b[0m\u001b[0;34m\u001b[0m\u001b[0m\n",
            "\u001b[0;31mTypeError\u001b[0m: 'int' object is not iterable"
          ]
        }
      ]
    },
    {
      "cell_type": "code",
      "metadata": {
        "id": "e3VPx9LnejKk",
        "colab_type": "code",
        "colab": {
          "base_uri": "https://localhost:8080/",
          "height": 35
        },
        "outputId": "79aa0414-8651-4457-e5bd-a4511a18ecc6"
      },
      "source": [
        "rBatch.shape"
      ],
      "execution_count": 132,
      "outputs": [
        {
          "output_type": "execute_result",
          "data": {
            "text/plain": [
              "(128, 1)"
            ]
          },
          "metadata": {
            "tags": []
          },
          "execution_count": 132
        }
      ]
    },
    {
      "cell_type": "code",
      "metadata": {
        "id": "CJssxefyewd2",
        "colab_type": "code",
        "colab": {
          "base_uri": "https://localhost:8080/",
          "height": 1000
        },
        "outputId": "6a9f95ec-efb8-4f3e-858b-e1f844c56499"
      },
      "source": [
        "Dl3_rA[0]"
      ],
      "execution_count": 135,
      "outputs": [
        {
          "output_type": "execute_result",
          "data": {
            "text/plain": [
              "array([-4.42810727e-03,  3.14269605e-02,  4.27158606e-01,  8.89713344e-02,\n",
              "       -8.18146638e-04,  4.04001516e-02, -2.90433257e-03,  6.82628322e-02,\n",
              "        1.07329612e-01,  6.00117287e-02,  5.31471033e-02, -1.35295699e-03,\n",
              "       -1.89598130e-03,  2.32209564e-02, -2.83462584e-03, -8.50961644e-04,\n",
              "        2.09311605e-01,  7.22180040e-02,  1.11044768e-01,  2.29061059e-01,\n",
              "        8.60009851e-02, -2.29220991e-03,  1.27579713e-01, -3.57364651e-05,\n",
              "       -2.27839128e-03,  1.00151620e-01, -2.05345720e-04,  1.32098035e-01,\n",
              "       -2.60901495e-03, -3.32959583e-03,  1.50220027e-02, -1.17030874e-03,\n",
              "        1.79853066e-01, -2.58302507e-03,  1.04565859e-01,  1.03016686e-01,\n",
              "        4.15373087e-02, -2.60372259e-03,  1.69025664e-02, -1.88466983e-03,\n",
              "        1.63995220e-01,  2.73118116e-01, -1.45803875e-04, -2.40771902e-03,\n",
              "       -5.46661494e-04,  9.99727695e-03, -4.51375186e-04,  4.07911844e-01,\n",
              "       -1.56282575e-03, -4.86969715e-03,  2.83115053e-01,  1.67008917e-01,\n",
              "       -2.53154203e-03, -4.27918838e-04, -1.45788840e-04,  1.68166019e-02,\n",
              "       -1.26158754e-04, -1.37783319e-03, -7.39647434e-05,  8.88581026e-02,\n",
              "       -7.01175712e-05,  1.08982172e-02,  9.13052235e-02,  1.42816380e-01,\n",
              "       -1.20088684e-03,  1.28504159e-01,  2.72667372e-02, -1.27201867e-03,\n",
              "        5.28926158e-01, -3.15955376e-04,  8.47454675e-02,  3.26688734e-01,\n",
              "        6.56421787e-02, -5.83601318e-04,  1.57026118e-01,  1.64563773e-01,\n",
              "       -4.44298027e-05, -2.50002201e-03, -2.18853406e-03,  3.94105374e-02,\n",
              "       -1.89311851e-04,  2.71532231e-01, -2.88897383e-04,  2.10291873e-01,\n",
              "        8.69760404e-02,  2.33326595e-01, -1.21422627e-03, -8.38655556e-04,\n",
              "       -2.69387028e-05, -1.73648242e-03,  5.82834702e-02,  1.41882615e-01,\n",
              "        3.09628583e-02,  5.50913754e-03,  2.20190456e-01,  3.77871275e-01,\n",
              "       -1.22405843e-03,  2.08480655e-01, -2.17624125e-03, -8.59037932e-04,\n",
              "        2.01771161e-01, -1.34862257e-03, -1.22877949e-03, -1.71972874e-03,\n",
              "       -2.43192637e-03,  7.18552553e-02, -7.83830870e-04, -2.07350319e-03,\n",
              "        7.49793221e-02, -3.95123072e-03,  1.88392648e-01,  2.58693055e-02,\n",
              "        2.46692793e-01, -6.80992574e-04,  3.64944429e-01, -5.00647452e-04,\n",
              "        1.69033090e-01, -4.54708799e-03, -1.31735215e-03, -1.20250007e-03,\n",
              "       -8.51942806e-04, -1.19245157e-03, -3.91890044e-04, -2.76858920e-03,\n",
              "       -5.06291581e-03, -1.44921228e-04,  1.71353916e-01,  1.45957235e-01,\n",
              "       -2.37108092e-03, -1.23473647e-03,  2.44787789e-01,  1.39242004e-02,\n",
              "       -4.27276846e-03, -7.71568983e-04, -9.42602191e-04, -7.93243576e-04,\n",
              "       -1.00752386e-03, -8.83187716e-04, -1.27608516e-03,  1.66961420e-01,\n",
              "       -8.85916149e-04, -1.43999616e-03,  1.94988085e-01, -1.56092377e-03,\n",
              "        3.26282826e-01, -1.00327087e-03,  1.97072604e-01,  3.32734452e-01,\n",
              "       -2.23016353e-03,  9.70942641e-02,  3.04152150e-01,  6.14935600e-02,\n",
              "       -2.37129829e-03, -1.29585236e-03,  1.07868766e-02,  5.58596984e-01,\n",
              "        4.41465649e-03,  9.11788004e-02,  3.49082216e-02, -3.28864815e-04,\n",
              "        2.91619556e-01, -5.21514394e-03,  5.66267363e-02,  3.36415481e-02,\n",
              "       -1.22657603e-03,  1.35333862e-01,  1.23010562e-01,  1.72999448e-01,\n",
              "       -1.44280053e-04, -5.41327852e-04, -9.24161585e-04,  1.99284706e-01,\n",
              "        2.76447488e-02, -5.68678061e-04,  1.71305669e-01,  2.07741359e-01,\n",
              "        1.26463160e-01,  8.81646311e-02, -2.41374707e-04,  1.09437257e-01,\n",
              "        3.10950066e-01, -1.20711685e-04,  2.87821091e-01, -8.37273637e-04,\n",
              "       -9.07208721e-04,  2.36936828e-02, -2.73940342e-03,  7.53877496e-02,\n",
              "        2.80267614e-01,  2.10747389e-01,  5.50591767e-02, -1.22299403e-04,\n",
              "        5.97909213e-02, -7.76529473e-04, -4.93320224e-04, -1.06863602e-03,\n",
              "       -2.25406341e-03,  4.31545221e-01,  2.72333354e-01, -2.21796387e-03,\n",
              "       -2.01259506e-03, -2.31346595e-03, -1.10721765e-03, -2.76097317e-03,\n",
              "        1.73566653e-04,  2.34820833e-02, -1.23011250e-03, -1.14168722e-03,\n",
              "        4.14381385e-01, -3.40250335e-03, -2.67795036e-03,  9.44787504e-02,\n",
              "       -1.96947125e-04,  6.11431122e-04,  2.13876231e-01,  7.73771866e-02,\n",
              "       -7.15760639e-04,  3.69282347e-01,  1.96094831e-01,  1.44757461e-01,\n",
              "        1.82611928e-01,  1.14080151e-01,  4.47696381e-02, -2.42881143e-03,\n",
              "       -1.77047109e-03,  9.75362470e-03,  2.21781369e-02,  9.23848641e-02,\n",
              "       -3.24937786e-03, -1.66788821e-03, -2.76949890e-03, -2.77367510e-04,\n",
              "        2.53933218e-01, -2.98410554e-04, -2.59400199e-03, -1.87383736e-03,\n",
              "       -4.91545941e-04, -2.16859106e-03,  1.65145926e-01,  2.28202160e-01,\n",
              "        2.70111900e-01,  2.12098913e-01, -8.57872523e-04,  6.47902646e-02,\n",
              "       -5.43213829e-04, -1.93204809e-03, -8.92921383e-04,  8.85477916e-02,\n",
              "        4.97768755e-02,  1.17253516e-01, -1.19013737e-04,  1.13187140e-01,\n",
              "        9.67968165e-03,  4.83272590e-02,  1.01152725e-01, -1.99221385e-03,\n",
              "       -2.04417807e-04,  6.58482804e-02, -1.36333960e-03, -3.10663780e-03,\n",
              "        2.74588573e-01,  5.38470149e-02, -2.25804818e-03, -3.39327559e-03,\n",
              "        3.51447227e-01, -2.93931978e-03, -1.34349901e-03,  8.63850680e-02,\n",
              "        2.25644455e-02,  3.40859453e-02, -5.48047736e-03, -1.79078321e-03,\n",
              "        3.85180813e-02,  2.18332332e-02, -1.34374103e-04, -1.25452148e-04,\n",
              "        9.77408851e-03,  2.62465603e-01, -3.73780456e-04,  7.70217269e-02,\n",
              "        2.68529288e-01, -5.39613044e-04,  2.84388498e-02, -2.40174169e-03,\n",
              "        3.41128437e-01,  2.68719294e-01, -3.62731208e-03,  2.57199619e-01,\n",
              "        1.96923102e-01, -6.36901848e-04, -8.04085246e-04,  2.51044952e-01,\n",
              "       -2.65832484e-03, -1.85058185e-03,  1.01338553e-01, -2.23576437e-03,\n",
              "        8.71986652e-02,  7.25243848e-02, -8.66496751e-04,  6.17807199e-02,\n",
              "       -2.28080017e-03, -1.29491940e-03,  9.84688757e-02, -1.69853568e-03,\n",
              "        3.11088702e-01, -8.53192231e-04,  3.36747227e-01,  6.47782799e-02,\n",
              "       -1.88412925e-04,  9.82857424e-03,  1.69693623e-02, -1.64515939e-03,\n",
              "        8.49151769e-02,  2.67569547e-01, -1.14298950e-03, -1.17915689e-03,\n",
              "        1.43315526e-01, -2.03666594e-03,  5.91311308e-02,  3.20278625e-01,\n",
              "        4.32881838e-01, -3.61913434e-04,  1.48297515e-01,  2.45562502e-01,\n",
              "        8.48075405e-02,  7.01527447e-02,  3.25755897e-02, -3.44068906e-04,\n",
              "       -2.33004721e-03, -1.65657656e-03, -4.16886707e-03,  3.45470556e-01,\n",
              "       -6.06564086e-04, -2.62055042e-04, -2.19855568e-03,  1.87160074e-01,\n",
              "       -3.42383570e-03, -1.03336029e-03,  1.02585992e-01, -3.27281733e-03,\n",
              "        2.00287047e-02, -1.62523448e-03,  4.98858772e-01,  1.31433423e-01,\n",
              "       -2.74294867e-03, -5.59009678e-04])"
            ]
          },
          "metadata": {
            "tags": []
          },
          "execution_count": 135
        }
      ]
    },
    {
      "cell_type": "code",
      "metadata": {
        "id": "-iG5V4Pve9L4",
        "colab_type": "code",
        "colab": {}
      },
      "source": [
        ""
      ],
      "execution_count": 0,
      "outputs": []
    }
  ]
}